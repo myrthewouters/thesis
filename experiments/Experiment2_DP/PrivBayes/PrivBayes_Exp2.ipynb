{
 "cells": [
  {
   "cell_type": "markdown",
   "metadata": {},
   "source": [
    "# Generating Sequential Data with PrivBayes"
   ]
  },
  {
   "cell_type": "markdown",
   "metadata": {},
   "source": [
    "# Environment"
   ]
  },
  {
   "cell_type": "markdown",
   "metadata": {},
   "source": [
    "## Library Imports"
   ]
  },
  {
   "cell_type": "code",
   "execution_count": 1,
   "metadata": {},
   "outputs": [],
   "source": [
    "import numpy as np\n",
    "import pandas as pd\n",
    "from pathlib import Path\n",
    "import os\n",
    "import sys\n",
    "from itertools import product\n",
    "module_path = os.path.abspath(os.path.join('../../..'))\n",
    "if module_path not in sys.path:\n",
    "    sys.path.append(module_path)"
   ]
  },
  {
   "cell_type": "code",
   "execution_count": 2,
   "metadata": {},
   "outputs": [],
   "source": [
    "from copy import deepcopy\n",
    "import math\n",
    "from dython.nominal import associations\n",
    "import matplotlib.pyplot as plt\n",
    "import random"
   ]
  },
  {
   "cell_type": "code",
   "execution_count": 3,
   "metadata": {},
   "outputs": [
    {
     "name": "stdout",
     "output_type": "stream",
     "text": [
      "C:\\Users\\mwo2008.54063\\Documents\\GitHub\\thesis\n"
     ]
    }
   ],
   "source": [
    "print(module_path)"
   ]
  },
  {
   "cell_type": "markdown",
   "metadata": {},
   "source": [
    "## Jupyter-specific Imports and Settings"
   ]
  },
  {
   "cell_type": "code",
   "execution_count": 4,
   "metadata": {},
   "outputs": [],
   "source": [
    "# set printing options\n",
    "np.set_printoptions(threshold=sys.maxsize)\n",
    "pd.set_option('display.max_rows', 500)\n",
    "pd.set_option('display.max_columns', 500)\n",
    "pd.set_option('display.width', 1000)\n",
    "pd.set_option('display.expand_frame_repr', False)\n",
    "\n",
    "# Display all cell outputs\n",
    "from IPython.core.interactiveshell import InteractiveShell\n",
    "InteractiveShell.ast_node_interactivity = 'all'\n",
    "\n",
    "from IPython import get_ipython\n",
    "ipython = get_ipython()\n",
    "\n",
    "# autoreload extension\n",
    "if 'autoreload' not in ipython.extension_manager.loaded:\n",
    "    get_ipython().run_line_magic('load_ext', 'autoreload')\n",
    "\n",
    "get_ipython().run_line_magic('autoreload', '2')\n",
    "from importlib import reload"
   ]
  },
  {
   "cell_type": "markdown",
   "metadata": {},
   "source": [
    "## Import local libraries"
   ]
  },
  {
   "cell_type": "code",
   "execution_count": 5,
   "metadata": {},
   "outputs": [],
   "source": [
    "from synthesis.synthesizers.privbayes import PrivBayes, NodeParentPair"
   ]
  },
  {
   "cell_type": "markdown",
   "metadata": {},
   "source": [
    "## Load original data"
   ]
  },
  {
   "cell_type": "code",
   "execution_count": 6,
   "metadata": {},
   "outputs": [],
   "source": [
    "tumours = pd.read_pickle('../../../../../Master Thesis/data/preprocessed/tumours_patients_2017_train.pickle').set_index('eid')\n",
    "treatments = pd.read_pickle('../../../../../Master Thesis/data/preprocessed/treatments_2017_train.pickle')"
   ]
  },
  {
   "cell_type": "code",
   "execution_count": 7,
   "metadata": {},
   "outputs": [
    {
     "data": {
      "text/plain": [
       "((191913, 8), (317592, 4))"
      ]
     },
     "execution_count": 7,
     "metadata": {},
     "output_type": "execute_result"
    }
   ],
   "source": [
    "tumours.shape, treatments.shape"
   ]
  },
  {
   "cell_type": "markdown",
   "metadata": {},
   "source": [
    "#### Transform treatments to main group"
   ]
  },
  {
   "cell_type": "code",
   "execution_count": 8,
   "metadata": {},
   "outputs": [],
   "source": [
    "th_gebeurtenis = pd.read_csv('../../../../../Master Thesis/data/thesauri/th_gebeurtenis.csv', engine='python')"
   ]
  },
  {
   "cell_type": "code",
   "execution_count": 9,
   "metadata": {},
   "outputs": [],
   "source": [
    "# Add stoma main group\n",
    "def get_stoma_maingroup(row):\n",
    "    if 'stoma' in row['omschrijving'].lower():\n",
    "        return 'STOMA'\n",
    "    else:\n",
    "        return row['hoofdgroep_code']\n",
    "    \n",
    "th_gebeurtenis['hoofdgroep_code'] = th_gebeurtenis.apply(lambda row: get_stoma_maingroup(row), axis=1)"
   ]
  },
  {
   "cell_type": "code",
   "execution_count": 10,
   "metadata": {},
   "outputs": [],
   "source": [
    "maingroup_dict = dict(zip(th_gebeurtenis['code'], th_gebeurtenis['hoofdgroep_code']))"
   ]
  },
  {
   "cell_type": "code",
   "execution_count": 11,
   "metadata": {},
   "outputs": [],
   "source": [
    "treatments['gbs_gebeurtenis_code'] = treatments['gbs_gebeurtenis_code'].replace(maingroup_dict)"
   ]
  },
  {
   "cell_type": "markdown",
   "metadata": {},
   "source": [
    "## Sequential Data Pivoting + Pre- and Post-processing DP"
   ]
  },
  {
   "cell_type": "code",
   "execution_count": 12,
   "metadata": {},
   "outputs": [],
   "source": [
    "class SequentialDataPivotingDP:\n",
    "    \"\"\"\n",
    "    Basic class for Sequential Data Pivoting as described in Section 4.2.2, extended with DP approach (Section 4.4.2):\n",
    "    * Appends sequence length attribute to patient covariates\n",
    "    * Post-processing synthetic data by \n",
    "        (1) cutting the treatment sequence once the first 'empty' treatment is sampled by \n",
    "            the generative model (i.e., treating the next treatments as 'empty' regardless of the value sampled), and \n",
    "        (2) For those synthetic patients with all treatments sampled (i.e., no ’empty’ value sampled in the treatment \n",
    "            attributes),the treatment sequence is cut at the synthetic value for the ’Sequence length’ attribute for this \n",
    "            patient\n",
    "    \"\"\"\n",
    "    \n",
    "    def __init__(self, max_n_treatments, primary_key, treatment_col, order_col):\n",
    "        self.max_n_treatments = max_n_treatments\n",
    "        self.primary_key = primary_key\n",
    "        self.treatment_col = treatment_col\n",
    "        self.order_col = order_col\n",
    "        \n",
    "    def transform(self, df_static, df_treatments):\n",
    "        \"\"\"\n",
    "        Flattens df_treatments and appends to df_static, extensions:\n",
    "        * Appends sequence length attribute to patient covariates\n",
    "        \"\"\"\n",
    "        # Add number of treatments column\n",
    "        sequence_lengths = pd.DataFrame(df_treatments.groupby(self.primary_key)[self.treatment_col].count()).rename(\n",
    "                        {self.treatment_col: 'sequence_length'}, axis=1)\n",
    "        \n",
    "        df_static = df_static.merge(sequence_lengths, left_index=True, right_index=True)\n",
    "        \n",
    "        # Sort values by order col\n",
    "        df_treatments = df_treatments.sort_values([self.primary_key, self.order_col])\n",
    "        \n",
    "        # Group treatments by primary key, list treatments\n",
    "        df_treatments_grouped = pd.DataFrame(df_treatments.groupby(self.primary_key)[self.treatment_col].apply(list))\n",
    "        \n",
    "        # Instantiate flat treatments dataframe\n",
    "        df_treatments_flat = pd.DataFrame(index=df_treatments_grouped.index)\n",
    "        \n",
    "        # Flatten treatment columns\n",
    "        for nr in range(1, self.max_n_treatments + 1):\n",
    "            df_treatments_flat['treatment_' + str(nr)] = df_treatments_grouped[self.treatment_col].apply(self.get_treatment_nr,\n",
    "                                                                                                        args=[nr])\n",
    "            \n",
    "        # Merge flat treatments dataframe with static covariates dataframe\n",
    "        df = df_static.merge(df_treatments_flat, left_index=True, right_index=True)\n",
    "        \n",
    "        return df\n",
    "    \n",
    "    def inverse_transform(self, df):\n",
    "        \"\"\"\n",
    "        Transforms flat dataframe back to df_static and df_treatments, extensions:\n",
    "        * Post-processing synthetic data by \n",
    "            (1) cutting the treatment sequence once the first 'empty' treatment is sampled by \n",
    "                the generative model (i.e., treating the next treatments as 'empty' regardless of the value sampled), and \n",
    "            (2) For those synthetic patients with all treatments sampled (i.e., no ’empty’ value sampled in the treatment \n",
    "                attributes),the treatment sequence is cut at the synthetic value for the ’Sequence length’ attribute for this \n",
    "                patient\n",
    "        \"\"\"\n",
    "        # Define static and treatment columns\n",
    "        static_cols = [col for col in df if not (col.startswith('treatment') or col=='sequence_length')]\n",
    "        treatment_cols = list(set(df.columns) - set(static_cols))\n",
    "        \n",
    "        # df_static\n",
    "        df_static = df[static_cols].copy()\n",
    "        \n",
    "        # df_treatments\n",
    "        # Set all columns after sequence_length to nan if all treatment columns are sampled\n",
    "        def fix_nr_treatments(row):\n",
    "            if not 'nan' in list(row.values)[-self.max_n_treatments:]:\n",
    "                nr_treatments = int(row['sequence_length'])\n",
    "            \n",
    "                for nr in range(nr_treatments+1, self.max_n_treatments+1):\n",
    "                    treatment_col = 'treatment_' + str(nr)\n",
    "                    row[treatment_col] = 'nan'\n",
    "\n",
    "            return row\n",
    "        \n",
    "        df = df.copy()\n",
    "        df = df.apply(lambda row: fix_nr_treatments(row), axis=1)\n",
    "        \n",
    "        # Treatment columns\n",
    "        treatment_cols_treatments = sorted([col for col in treatment_cols if col.startswith('treatment')])\n",
    "        \n",
    "        # One df per treatment column to reverse flatten\n",
    "        treatment_cols_data = [pd.DataFrame(df[col]) for col in treatment_cols_treatments]\n",
    "        for a_df in treatment_cols_data:\n",
    "            a_df['nr_treatment'] = a_df.columns[0][-1]\n",
    "            a_df.rename(columns={a_df.columns[0]: self.treatment_col}, inplace=True)\n",
    "        \n",
    "        # Concat all treatment columns to one dataframe\n",
    "        treatments = pd.concat(treatment_cols_data)\n",
    "        treatments.index.name = self.primary_key\n",
    "        treatments = treatments.reset_index()\n",
    "        \n",
    "        # Replace nan \n",
    "        df_treatments = treatments.replace('nan', np.nan)\n",
    "        df_treatments = df_treatments.dropna().rename({'nr_treatment': self.order_col}, axis=1)\n",
    "        \n",
    "        # Sort by primary key and order of treatments\n",
    "        df_treatments = df_treatments.sort_values([self.primary_key, self.order_col]).reset_index(drop=True)\n",
    "\n",
    "        # Drop all treatments after first nan\n",
    "        df_treatments = df_treatments[df_treatments[self.order_col].astype(int)\n",
    "                                      ==df_treatments.groupby(self.primary_key).cumcount()+1].copy()\n",
    "                \n",
    "        return df_static, df_treatments\n",
    "        \n",
    "    @staticmethod\n",
    "    def get_treatment_nr(treatments, nr):\n",
    "        if len(treatments)>=nr:\n",
    "            return treatments[nr-1]\n",
    "        else:\n",
    "            return np.nan"
   ]
  },
  {
   "cell_type": "code",
   "execution_count": 13,
   "metadata": {},
   "outputs": [],
   "source": [
    "# develop transformer to flatten the table\n",
    "fts = SequentialDataPivotingDP(max_n_treatments=5,\n",
    "                               primary_key='eid',\n",
    "                               treatment_col='gbs_gebeurtenis_code',\n",
    "                               order_col='gbs_vnr')\n",
    "\n",
    "df = fts.transform(tumours, treatments)"
   ]
  },
  {
   "cell_type": "code",
   "execution_count": 14,
   "metadata": {
    "scrolled": true
   },
   "outputs": [
    {
     "data": {
      "text/plain": [
       "(191913, 14)"
      ]
     },
     "execution_count": 14,
     "metadata": {},
     "output_type": "execute_result"
    }
   ],
   "source": [
    "df.shape"
   ]
  },
  {
   "cell_type": "code",
   "execution_count": 15,
   "metadata": {
    "scrolled": true
   },
   "outputs": [],
   "source": [
    "# Set all dtypes to string\n",
    "df = df.astype(str)"
   ]
  },
  {
   "cell_type": "markdown",
   "metadata": {},
   "source": [
    "# Generate data"
   ]
  },
  {
   "cell_type": "markdown",
   "metadata": {},
   "source": [
    "### Epsilon 1"
   ]
  },
  {
   "cell_type": "code",
   "execution_count": 29,
   "metadata": {},
   "outputs": [],
   "source": [
    "epsilon = 1"
   ]
  },
  {
   "cell_type": "markdown",
   "metadata": {},
   "source": [
    "#### Static data only to find static network"
   ]
  },
  {
   "cell_type": "code",
   "execution_count": 30,
   "metadata": {},
   "outputs": [],
   "source": [
    "df_static = df.iloc[:, :9]"
   ]
  },
  {
   "cell_type": "code",
   "execution_count": 33,
   "metadata": {
    "collapsed": true
   },
   "outputs": [
    {
     "name": "stdout",
     "output_type": "stream",
     "text": [
      "1/9 - Root of network: sequence_length\n",
      "\n",
      "2/9 - Evaluating next node to add to network\n",
      "Number of NodeParentPair candidates: 8\n",
      "Candidates: [NodeParentPair(node='tum_topo_sublokalisatie_code', parents=('sequence_length',)), NodeParentPair(node='stadium', parents=('sequence_length',)), NodeParentPair(node='pat_geslacht_code', parents=('sequence_length',)), NodeParentPair(node='tum_differentiatiegraad_code', parents=('sequence_length',)), NodeParentPair(node='tum_topo_code', parents=('sequence_length',)), NodeParentPair(node='age_at_diagnosis', parents=('sequence_length',)), NodeParentPair(node='survival_1', parents=('sequence_length',)), NodeParentPair(node='tum_lymfklieren_positief_atl', parents=('sequence_length',))]\n",
      "Selected node: 'tum_lymfklieren_positief_atl' - with parents: ('sequence_length',)\n",
      "\n",
      "3/9 - Evaluating next node to add to network\n",
      "Number of NodeParentPair candidates: 7\n",
      "Candidates: [NodeParentPair(node='tum_topo_sublokalisatie_code', parents=('sequence_length', 'tum_lymfklieren_positief_atl')), NodeParentPair(node='stadium', parents=('sequence_length', 'tum_lymfklieren_positief_atl')), NodeParentPair(node='tum_differentiatiegraad_code', parents=('sequence_length', 'tum_lymfklieren_positief_atl')), NodeParentPair(node='pat_geslacht_code', parents=('sequence_length', 'tum_lymfklieren_positief_atl')), NodeParentPair(node='tum_topo_code', parents=('sequence_length', 'tum_lymfklieren_positief_atl')), NodeParentPair(node='age_at_diagnosis', parents=('sequence_length', 'tum_lymfklieren_positief_atl')), NodeParentPair(node='survival_1', parents=('sequence_length', 'tum_lymfklieren_positief_atl'))]\n",
      "Selected node: 'pat_geslacht_code' - with parents: ('sequence_length', 'tum_lymfklieren_positief_atl')\n",
      "\n",
      "4/9 - Evaluating next node to add to network\n",
      "Number of NodeParentPair candidates: 6\n",
      "Candidates: [NodeParentPair(node='tum_topo_sublokalisatie_code', parents=('sequence_length', 'pat_geslacht_code', 'tum_lymfklieren_positief_atl')), NodeParentPair(node='stadium', parents=('sequence_length', 'pat_geslacht_code', 'tum_lymfklieren_positief_atl')), NodeParentPair(node='tum_differentiatiegraad_code', parents=('sequence_length', 'pat_geslacht_code', 'tum_lymfklieren_positief_atl')), NodeParentPair(node='tum_topo_code', parents=('sequence_length', 'pat_geslacht_code', 'tum_lymfklieren_positief_atl')), NodeParentPair(node='age_at_diagnosis', parents=('sequence_length', 'pat_geslacht_code', 'tum_lymfklieren_positief_atl')), NodeParentPair(node='survival_1', parents=('sequence_length', 'pat_geslacht_code', 'tum_lymfklieren_positief_atl'))]\n",
      "Selected node: 'tum_topo_sublokalisatie_code' - with parents: ('sequence_length', 'pat_geslacht_code', 'tum_lymfklieren_positief_atl')\n",
      "\n",
      "5/9 - Evaluating next node to add to network\n",
      "Number of NodeParentPair candidates: 8\n",
      "Candidates: [NodeParentPair(node='stadium', parents=('tum_topo_sublokalisatie_code', 'pat_geslacht_code', 'tum_lymfklieren_positief_atl')), NodeParentPair(node='stadium', parents=('tum_topo_sublokalisatie_code', 'sequence_length', 'tum_lymfklieren_positief_atl')), NodeParentPair(node='stadium', parents=('sequence_length', 'pat_geslacht_code', 'tum_lymfklieren_positief_atl')), NodeParentPair(node='stadium', parents=('tum_topo_sublokalisatie_code', 'sequence_length', 'pat_geslacht_code')), NodeParentPair(node='tum_differentiatiegraad_code', parents=('tum_topo_sublokalisatie_code', 'sequence_length', 'pat_geslacht_code', 'tum_lymfklieren_positief_atl')), NodeParentPair(node='tum_topo_code', parents=('tum_topo_sublokalisatie_code', 'sequence_length', 'pat_geslacht_code', 'tum_lymfklieren_positief_atl')), NodeParentPair(node='age_at_diagnosis', parents=('tum_topo_sublokalisatie_code', 'sequence_length', 'pat_geslacht_code', 'tum_lymfklieren_positief_atl')), NodeParentPair(node='survival_1', parents=('tum_topo_sublokalisatie_code', 'sequence_length', 'pat_geslacht_code', 'tum_lymfklieren_positief_atl'))]\n",
      "Selected node: 'stadium' - with parents: ('tum_topo_sublokalisatie_code', 'sequence_length', 'tum_lymfklieren_positief_atl')\n",
      "\n",
      "6/9 - Evaluating next node to add to network\n",
      "Number of NodeParentPair candidates: 17\n",
      "Candidates: [NodeParentPair(node='tum_topo_code', parents=('tum_topo_sublokalisatie_code', 'sequence_length', 'pat_geslacht_code', 'tum_lymfklieren_positief_atl')), NodeParentPair(node='tum_topo_code', parents=('tum_topo_sublokalisatie_code', 'sequence_length', 'stadium')), NodeParentPair(node='tum_topo_code', parents=('stadium', 'tum_topo_sublokalisatie_code', 'pat_geslacht_code', 'tum_lymfklieren_positief_atl')), NodeParentPair(node='tum_topo_code', parents=('stadium', 'sequence_length', 'pat_geslacht_code', 'tum_lymfklieren_positief_atl')), NodeParentPair(node='age_at_diagnosis', parents=('stadium', 'tum_topo_sublokalisatie_code', 'tum_lymfklieren_positief_atl')), NodeParentPair(node='age_at_diagnosis', parents=('tum_topo_sublokalisatie_code', 'pat_geslacht_code', 'stadium')), NodeParentPair(node='age_at_diagnosis', parents=('tum_topo_sublokalisatie_code', 'sequence_length', 'pat_geslacht_code', 'tum_lymfklieren_positief_atl')), NodeParentPair(node='age_at_diagnosis', parents=('stadium', 'sequence_length', 'pat_geslacht_code', 'tum_lymfklieren_positief_atl')), NodeParentPair(node='survival_1', parents=('tum_topo_sublokalisatie_code', 'sequence_length', 'pat_geslacht_code', 'tum_lymfklieren_positief_atl')), NodeParentPair(node='survival_1', parents=('tum_topo_sublokalisatie_code', 'sequence_length', 'pat_geslacht_code', 'stadium')), NodeParentPair(node='survival_1', parents=('stadium', 'sequence_length', 'pat_geslacht_code', 'tum_lymfklieren_positief_atl')), NodeParentPair(node='survival_1', parents=('stadium', 'tum_topo_sublokalisatie_code', 'pat_geslacht_code', 'tum_lymfklieren_positief_atl')), NodeParentPair(node='tum_differentiatiegraad_code', parents=('tum_lymfklieren_positief_atl', 'tum_topo_sublokalisatie_code', 'stadium')), NodeParentPair(node='tum_differentiatiegraad_code', parents=('tum_topo_sublokalisatie_code', 'pat_geslacht_code', 'stadium')), NodeParentPair(node='tum_differentiatiegraad_code', parents=('stadium', 'sequence_length', 'pat_geslacht_code', 'tum_lymfklieren_positief_atl')), NodeParentPair(node='tum_differentiatiegraad_code', parents=('tum_topo_sublokalisatie_code', 'sequence_length', 'stadium')), NodeParentPair(node='tum_differentiatiegraad_code', parents=('tum_topo_sublokalisatie_code', 'sequence_length', 'pat_geslacht_code', 'tum_lymfklieren_positief_atl'))]\n",
      "Selected node: 'survival_1' - with parents: ('tum_topo_sublokalisatie_code', 'sequence_length', 'pat_geslacht_code', 'stadium')\n",
      "\n",
      "7/9 - Evaluating next node to add to network\n",
      "Number of NodeParentPair candidates: 29\n",
      "Candidates: [NodeParentPair(node='tum_topo_code', parents=('stadium', 'tum_topo_sublokalisatie_code', 'pat_geslacht_code', 'tum_lymfklieren_positief_atl')), NodeParentPair(node='tum_topo_code', parents=('tum_topo_sublokalisatie_code', 'survival_1', 'pat_geslacht_code', 'stadium')), NodeParentPair(node='tum_topo_code', parents=('stadium', 'tum_topo_sublokalisatie_code', 'survival_1', 'tum_lymfklieren_positief_atl')), NodeParentPair(node='tum_topo_code', parents=('tum_topo_sublokalisatie_code', 'sequence_length', 'stadium')), NodeParentPair(node='tum_topo_code', parents=('pat_geslacht_code', 'stadium', 'sequence_length', 'survival_1', 'tum_lymfklieren_positief_atl')), NodeParentPair(node='tum_topo_code', parents=('tum_topo_sublokalisatie_code', 'pat_geslacht_code', 'sequence_length', 'survival_1', 'tum_lymfklieren_positief_atl')), NodeParentPair(node='age_at_diagnosis', parents=('tum_topo_sublokalisatie_code', 'survival_1', 'pat_geslacht_code', 'tum_lymfklieren_positief_atl')), NodeParentPair(node='age_at_diagnosis', parents=('stadium', 'survival_1', 'pat_geslacht_code', 'tum_lymfklieren_positief_atl')), NodeParentPair(node='age_at_diagnosis', parents=('stadium', 'tum_topo_sublokalisatie_code', 'tum_lymfklieren_positief_atl')), NodeParentPair(node='age_at_diagnosis', parents=('tum_topo_sublokalisatie_code', 'survival_1', 'pat_geslacht_code', 'stadium')), NodeParentPair(node='age_at_diagnosis', parents=('tum_lymfklieren_positief_atl', 'sequence_length', 'survival_1', 'stadium')), NodeParentPair(node='age_at_diagnosis', parents=('sequence_length', 'tum_topo_sublokalisatie_code', 'survival_1', 'tum_lymfklieren_positief_atl')), NodeParentPair(node='age_at_diagnosis', parents=('sequence_length', 'survival_1', 'pat_geslacht_code', 'stadium')), NodeParentPair(node='age_at_diagnosis', parents=('sequence_length', 'tum_topo_sublokalisatie_code', 'survival_1', 'pat_geslacht_code')), NodeParentPair(node='age_at_diagnosis', parents=('tum_topo_sublokalisatie_code', 'sequence_length', 'pat_geslacht_code', 'tum_lymfklieren_positief_atl')), NodeParentPair(node='age_at_diagnosis', parents=('sequence_length', 'survival_1', 'pat_geslacht_code', 'tum_lymfklieren_positief_atl')), NodeParentPair(node='age_at_diagnosis', parents=('tum_lymfklieren_positief_atl', 'sequence_length', 'pat_geslacht_code', 'stadium')), NodeParentPair(node='tum_differentiatiegraad_code', parents=('stadium', 'tum_topo_sublokalisatie_code', 'tum_lymfklieren_positief_atl')), NodeParentPair(node='tum_differentiatiegraad_code', parents=('tum_topo_sublokalisatie_code', 'survival_1', 'pat_geslacht_code', 'stadium')), NodeParentPair(node='tum_differentiatiegraad_code', parents=('tum_lymfklieren_positief_atl', 'survival_1', 'pat_geslacht_code', 'stadium')), NodeParentPair(node='tum_differentiatiegraad_code', parents=('tum_topo_sublokalisatie_code', 'survival_1', 'pat_geslacht_code', 'tum_lymfklieren_positief_atl')), NodeParentPair(node='tum_differentiatiegraad_code', parents=('stadium', 'sequence_length', 'pat_geslacht_code', 'tum_lymfklieren_positief_atl')), NodeParentPair(node='tum_differentiatiegraad_code', parents=('tum_topo_sublokalisatie_code', 'sequence_length', 'pat_geslacht_code', 'tum_lymfklieren_positief_atl')), NodeParentPair(node='tum_differentiatiegraad_code', parents=('tum_topo_sublokalisatie_code', 'sequence_length', 'stadium')), NodeParentPair(node='tum_differentiatiegraad_code', parents=('sequence_length', 'tum_topo_sublokalisatie_code', 'survival_1', 'pat_geslacht_code')), NodeParentPair(node='tum_differentiatiegraad_code', parents=('sequence_length', 'survival_1', 'pat_geslacht_code', 'stadium')), NodeParentPair(node='tum_differentiatiegraad_code', parents=('sequence_length', 'survival_1', 'pat_geslacht_code', 'tum_lymfklieren_positief_atl')), NodeParentPair(node='tum_differentiatiegraad_code', parents=('sequence_length', 'tum_topo_sublokalisatie_code', 'survival_1', 'tum_lymfklieren_positief_atl')), NodeParentPair(node='tum_differentiatiegraad_code', parents=('tum_lymfklieren_positief_atl', 'sequence_length', 'survival_1', 'stadium'))]\n"
     ]
    },
    {
     "name": "stdout",
     "output_type": "stream",
     "text": [
      "Selected node: 'tum_topo_code' - with parents: ('tum_topo_sublokalisatie_code', 'sequence_length', 'stadium')\n",
      "\n",
      "8/9 - Evaluating next node to add to network\n",
      "Number of NodeParentPair candidates: 37\n",
      "Candidates: [NodeParentPair(node='age_at_diagnosis', parents=('survival_1', 'sequence_length', 'pat_geslacht_code', 'tum_topo_sublokalisatie_code')), NodeParentPair(node='age_at_diagnosis', parents=('tum_topo_code', 'tum_topo_sublokalisatie_code', 'survival_1', 'pat_geslacht_code')), NodeParentPair(node='age_at_diagnosis', parents=('sequence_length', 'tum_topo_code', 'tum_topo_sublokalisatie_code', 'survival_1')), NodeParentPair(node='age_at_diagnosis', parents=('tum_topo_code', 'tum_topo_sublokalisatie_code', 'sequence_length', 'pat_geslacht_code')), NodeParentPair(node='age_at_diagnosis', parents=('tum_topo_sublokalisatie_code', 'survival_1', 'pat_geslacht_code', 'stadium')), NodeParentPair(node='age_at_diagnosis', parents=('tum_topo_code', 'tum_topo_sublokalisatie_code', 'stadium')), NodeParentPair(node='age_at_diagnosis', parents=('tum_topo_code', 'sequence_length', 'survival_1', 'stadium')), NodeParentPair(node='age_at_diagnosis', parents=('tum_topo_code', 'sequence_length', 'pat_geslacht_code', 'stadium')), NodeParentPair(node='age_at_diagnosis', parents=('sequence_length', 'survival_1', 'pat_geslacht_code', 'stadium')), NodeParentPair(node='age_at_diagnosis', parents=('tum_lymfklieren_positief_atl', 'tum_topo_sublokalisatie_code', 'stadium')), NodeParentPair(node='age_at_diagnosis', parents=('tum_lymfklieren_positief_atl', 'sequence_length', 'survival_1', 'stadium')), NodeParentPair(node='age_at_diagnosis', parents=('sequence_length', 'tum_topo_sublokalisatie_code', 'survival_1', 'tum_lymfklieren_positief_atl')), NodeParentPair(node='age_at_diagnosis', parents=('tum_topo_code', 'tum_topo_sublokalisatie_code', 'survival_1', 'tum_lymfklieren_positief_atl')), NodeParentPair(node='age_at_diagnosis', parents=('tum_topo_sublokalisatie_code', 'sequence_length', 'pat_geslacht_code', 'tum_lymfklieren_positief_atl')), NodeParentPair(node='age_at_diagnosis', parents=('tum_lymfklieren_positief_atl', 'sequence_length', 'pat_geslacht_code', 'stadium')), NodeParentPair(node='age_at_diagnosis', parents=('tum_topo_code', 'tum_topo_sublokalisatie_code', 'pat_geslacht_code', 'tum_lymfklieren_positief_atl')), NodeParentPair(node='age_at_diagnosis', parents=('pat_geslacht_code', 'stadium', 'tum_topo_code', 'survival_1', 'tum_lymfklieren_positief_atl')), NodeParentPair(node='age_at_diagnosis', parents=('pat_geslacht_code', 'tum_topo_code', 'sequence_length', 'survival_1', 'tum_lymfklieren_positief_atl')), NodeParentPair(node='age_at_diagnosis', parents=('tum_topo_sublokalisatie_code', 'survival_1', 'pat_geslacht_code', 'tum_lymfklieren_positief_atl')), NodeParentPair(node='tum_differentiatiegraad_code', parents=('tum_topo_sublokalisatie_code', 'sequence_length', 'pat_geslacht_code', 'tum_lymfklieren_positief_atl')), NodeParentPair(node='tum_differentiatiegraad_code', parents=('survival_1', 'sequence_length', 'pat_geslacht_code', 'tum_topo_sublokalisatie_code')), NodeParentPair(node='tum_differentiatiegraad_code', parents=('tum_topo_sublokalisatie_code', 'survival_1', 'sequence_length', 'tum_lymfklieren_positief_atl')), NodeParentPair(node='tum_differentiatiegraad_code', parents=('tum_topo_sublokalisatie_code', 'sequence_length', 'stadium')), NodeParentPair(node='tum_differentiatiegraad_code', parents=('tum_topo_sublokalisatie_code', 'survival_1', 'pat_geslacht_code', 'stadium')), NodeParentPair(node='tum_differentiatiegraad_code', parents=('survival_1', 'sequence_length', 'pat_geslacht_code', 'stadium')), NodeParentPair(node='tum_differentiatiegraad_code', parents=('stadium', 'sequence_length', 'survival_1', 'tum_lymfklieren_positief_atl')), NodeParentPair(node='tum_differentiatiegraad_code', parents=('stadium', 'sequence_length', 'pat_geslacht_code', 'tum_lymfklieren_positief_atl')), NodeParentPair(node='tum_differentiatiegraad_code', parents=('stadium', 'tum_topo_sublokalisatie_code', 'tum_lymfklieren_positief_atl')), NodeParentPair(node='tum_differentiatiegraad_code', parents=('tum_topo_code', 'tum_topo_sublokalisatie_code', 'stadium')), NodeParentPair(node='tum_differentiatiegraad_code', parents=('pat_geslacht_code', 'stadium', 'tum_topo_code', 'survival_1', 'tum_lymfklieren_positief_atl')), NodeParentPair(node='tum_differentiatiegraad_code', parents=('tum_topo_sublokalisatie_code', 'pat_geslacht_code', 'tum_topo_code', 'survival_1', 'tum_lymfklieren_positief_atl')), NodeParentPair(node='tum_differentiatiegraad_code', parents=('tum_topo_code', 'tum_topo_sublokalisatie_code', 'sequence_length', 'pat_geslacht_code')), NodeParentPair(node='tum_differentiatiegraad_code', parents=('sequence_length', 'tum_topo_code', 'tum_topo_sublokalisatie_code', 'survival_1')), NodeParentPair(node='tum_differentiatiegraad_code', parents=('pat_geslacht_code', 'tum_topo_code', 'survival_1', 'sequence_length', 'tum_lymfklieren_positief_atl')), NodeParentPair(node='tum_differentiatiegraad_code', parents=('tum_topo_code', 'sequence_length', 'survival_1', 'stadium')), NodeParentPair(node='tum_differentiatiegraad_code', parents=('tum_topo_code', 'sequence_length', 'pat_geslacht_code', 'stadium')), NodeParentPair(node='tum_differentiatiegraad_code', parents=('stadium', 'tum_topo_code', 'sequence_length', 'tum_lymfklieren_positief_atl'))]\n",
      "Selected node: 'tum_differentiatiegraad_code' - with parents: ('stadium', 'sequence_length', 'survival_1', 'tum_lymfklieren_positief_atl')\n",
      "\n",
      "9/9 - Evaluating next node to add to network\n",
      "Number of NodeParentPair candidates: 35\n",
      "Candidates: [NodeParentPair(node='age_at_diagnosis', parents=('tum_differentiatiegraad_code', 'tum_topo_sublokalisatie_code', 'pat_geslacht_code', 'tum_lymfklieren_positief_atl')), NodeParentPair(node='age_at_diagnosis', parents=('tum_topo_code', 'tum_topo_sublokalisatie_code', 'pat_geslacht_code', 'tum_lymfklieren_positief_atl')), NodeParentPair(node='age_at_diagnosis', parents=('tum_topo_code', 'tum_topo_sublokalisatie_code', 'pat_geslacht_code', 'tum_differentiatiegraad_code')), NodeParentPair(node='age_at_diagnosis', parents=('tum_topo_code', 'pat_geslacht_code', 'tum_differentiatiegraad_code', 'stadium')), NodeParentPair(node='age_at_diagnosis', parents=('tum_topo_code', 'tum_topo_sublokalisatie_code', 'stadium')), NodeParentPair(node='age_at_diagnosis', parents=('stadium', 'tum_topo_sublokalisatie_code', 'tum_lymfklieren_positief_atl')), NodeParentPair(node='age_at_diagnosis', parents=('stadium', 'pat_geslacht_code', 'tum_differentiatiegraad_code', 'tum_lymfklieren_positief_atl')), NodeParentPair(node='age_at_diagnosis', parents=('tum_topo_code', 'tum_topo_sublokalisatie_code', 'survival_1', 'pat_geslacht_code')), NodeParentPair(node='age_at_diagnosis', parents=('tum_topo_sublokalisatie_code', 'survival_1', 'pat_geslacht_code', 'stadium')), NodeParentPair(node='age_at_diagnosis', parents=('tum_differentiatiegraad_code', 'survival_1', 'pat_geslacht_code', 'stadium')), NodeParentPair(node='age_at_diagnosis', parents=('tum_topo_sublokalisatie_code', 'survival_1', 'pat_geslacht_code', 'tum_differentiatiegraad_code')), NodeParentPair(node='age_at_diagnosis', parents=('tum_topo_code', 'tum_topo_sublokalisatie_code', 'survival_1', 'tum_differentiatiegraad_code')), NodeParentPair(node='age_at_diagnosis', parents=('tum_topo_code', 'survival_1', 'tum_differentiatiegraad_code', 'stadium')), NodeParentPair(node='age_at_diagnosis', parents=('tum_topo_sublokalisatie_code', 'survival_1', 'pat_geslacht_code', 'tum_lymfklieren_positief_atl')), NodeParentPair(node='age_at_diagnosis', parents=('tum_topo_sublokalisatie_code', 'survival_1', 'tum_differentiatiegraad_code', 'tum_lymfklieren_positief_atl')), NodeParentPair(node='age_at_diagnosis', parents=('tum_lymfklieren_positief_atl', 'survival_1', 'tum_differentiatiegraad_code', 'stadium')), NodeParentPair(node='age_at_diagnosis', parents=('tum_topo_code', 'tum_topo_sublokalisatie_code', 'survival_1', 'tum_lymfklieren_positief_atl')), NodeParentPair(node='age_at_diagnosis', parents=('pat_geslacht_code', 'stadium', 'tum_topo_code', 'survival_1', 'tum_lymfklieren_positief_atl')), NodeParentPair(node='age_at_diagnosis', parents=('pat_geslacht_code', 'tum_differentiatiegraad_code', 'tum_topo_code', 'survival_1', 'tum_lymfklieren_positief_atl')), NodeParentPair(node='age_at_diagnosis', parents=('sequence_length', 'tum_differentiatiegraad_code', 'stadium')), NodeParentPair(node='age_at_diagnosis', parents=('tum_topo_sublokalisatie_code', 'sequence_length', 'tum_differentiatiegraad_code')), NodeParentPair(node='age_at_diagnosis', parents=('tum_topo_code', 'sequence_length', 'survival_1', 'stadium')), NodeParentPair(node='age_at_diagnosis', parents=('tum_topo_code', 'tum_topo_sublokalisatie_code', 'survival_1', 'sequence_length')), NodeParentPair(node='age_at_diagnosis', parents=('sequence_length', 'tum_topo_sublokalisatie_code', 'survival_1', 'tum_lymfklieren_positief_atl')), NodeParentPair(node='age_at_diagnosis', parents=('tum_lymfklieren_positief_atl', 'sequence_length', 'survival_1', 'stadium')), NodeParentPair(node='age_at_diagnosis', parents=('tum_topo_code', 'sequence_length', 'tum_differentiatiegraad_code', 'tum_lymfklieren_positief_atl')), NodeParentPair(node='age_at_diagnosis', parents=('sequence_length', 'tum_topo_sublokalisatie_code', 'survival_1', 'pat_geslacht_code')), NodeParentPair(node='age_at_diagnosis', parents=('tum_topo_code', 'tum_topo_sublokalisatie_code', 'sequence_length', 'pat_geslacht_code')), NodeParentPair(node='age_at_diagnosis', parents=('pat_geslacht_code', 'tum_differentiatiegraad_code', 'tum_topo_code', 'sequence_length', 'survival_1')), NodeParentPair(node='age_at_diagnosis', parents=('sequence_length', 'survival_1', 'pat_geslacht_code', 'stadium')), NodeParentPair(node='age_at_diagnosis', parents=('tum_topo_code', 'sequence_length', 'pat_geslacht_code', 'stadium')), NodeParentPair(node='age_at_diagnosis', parents=('pat_geslacht_code', 'tum_differentiatiegraad_code', 'sequence_length', 'survival_1', 'tum_lymfklieren_positief_atl')), NodeParentPair(node='age_at_diagnosis', parents=('pat_geslacht_code', 'tum_topo_code', 'sequence_length', 'survival_1', 'tum_lymfklieren_positief_atl')), NodeParentPair(node='age_at_diagnosis', parents=('tum_topo_sublokalisatie_code', 'sequence_length', 'pat_geslacht_code', 'tum_lymfklieren_positief_atl')), NodeParentPair(node='age_at_diagnosis', parents=('tum_lymfklieren_positief_atl', 'sequence_length', 'pat_geslacht_code', 'stadium'))]\n"
     ]
    },
    {
     "name": "stdout",
     "output_type": "stream",
     "text": [
      "Selected node: 'age_at_diagnosis' - with parents: ('tum_topo_code', 'tum_topo_sublokalisatie_code', 'sequence_length', 'pat_geslacht_code')\n",
      "\n",
      "Learned Network Structure\n",
      "\n",
      "Learning conditional probabilities: sequence_length - with parents None ~ estimated size: 5\n",
      "Learning conditional probabilities: tum_lymfklieren_positief_atl - with parents ('sequence_length',) ~ estimated size: 15\n",
      "Learning conditional probabilities: pat_geslacht_code - with parents ('sequence_length', 'tum_lymfklieren_positief_atl') ~ estimated size: 30\n",
      "Learning conditional probabilities: tum_topo_sublokalisatie_code - with parents ('sequence_length', 'pat_geslacht_code', 'tum_lymfklieren_positief_atl') ~ estimated size: 300\n",
      "Learning conditional probabilities: stadium - with parents ('tum_topo_sublokalisatie_code', 'sequence_length', 'tum_lymfklieren_positief_atl') ~ estimated size: 1050\n",
      "Learning conditional probabilities: survival_1 - with parents ('tum_topo_sublokalisatie_code', 'sequence_length', 'pat_geslacht_code', 'stadium') ~ estimated size: 1400\n",
      "Learning conditional probabilities: tum_topo_code - with parents ('tum_topo_sublokalisatie_code', 'sequence_length', 'stadium') ~ estimated size: 1050\n",
      "Learning conditional probabilities: tum_differentiatiegraad_code - with parents ('stadium', 'sequence_length', 'survival_1', 'tum_lymfklieren_positief_atl') ~ estimated size: 1050\n",
      "Learning conditional probabilities: age_at_diagnosis - with parents ('tum_topo_code', 'tum_topo_sublokalisatie_code', 'sequence_length', 'pat_geslacht_code') ~ estimated size: 1800\n"
     ]
    },
    {
     "data": {
      "text/plain": [
       "<synthesis.synthesizers.privbayes.PrivBayes at 0x205567f3808>"
      ]
     },
     "execution_count": 33,
     "metadata": {},
     "output_type": "execute_result"
    }
   ],
   "source": [
    "pb = PrivBayes(epsilon=epsilon, verbose=True)\n",
    "pb.fit(df_static)"
   ]
  },
  {
   "cell_type": "code",
   "execution_count": 34,
   "metadata": {},
   "outputs": [],
   "source": [
    "network_static = deepcopy(pb.network_)"
   ]
  },
  {
   "cell_type": "code",
   "execution_count": 35,
   "metadata": {},
   "outputs": [
    {
     "data": {
      "text/plain": [
       "[NodeParentPair(node='sequence_length', parents=None),\n",
       " NodeParentPair(node='tum_lymfklieren_positief_atl', parents=('sequence_length',)),\n",
       " NodeParentPair(node='pat_geslacht_code', parents=('sequence_length', 'tum_lymfklieren_positief_atl')),\n",
       " NodeParentPair(node='tum_topo_sublokalisatie_code', parents=('sequence_length', 'pat_geslacht_code', 'tum_lymfklieren_positief_atl')),\n",
       " NodeParentPair(node='stadium', parents=('tum_topo_sublokalisatie_code', 'sequence_length', 'tum_lymfklieren_positief_atl')),\n",
       " NodeParentPair(node='survival_1', parents=('tum_topo_sublokalisatie_code', 'sequence_length', 'pat_geslacht_code', 'stadium')),\n",
       " NodeParentPair(node='tum_topo_code', parents=('tum_topo_sublokalisatie_code', 'sequence_length', 'stadium')),\n",
       " NodeParentPair(node='tum_differentiatiegraad_code', parents=('stadium', 'sequence_length', 'survival_1', 'tum_lymfklieren_positief_atl')),\n",
       " NodeParentPair(node='age_at_diagnosis', parents=('tum_topo_code', 'tum_topo_sublokalisatie_code', 'sequence_length', 'pat_geslacht_code'))]"
      ]
     },
     "execution_count": 35,
     "metadata": {},
     "output_type": "execute_result"
    }
   ],
   "source": [
    "network_static"
   ]
  },
  {
   "cell_type": "markdown",
   "metadata": {},
   "source": [
    "#### Sequential network definition"
   ]
  },
  {
   "cell_type": "code",
   "execution_count": 38,
   "metadata": {},
   "outputs": [],
   "source": [
    "context_columns = ['tum_topo_code', 'stadium', 'survival_1']\n",
    "max_treatments = 5\n",
    "\n",
    "init_network_sequential = []\n",
    "for treatment_nr in range(1, max_treatments+1):\n",
    "    if not treatment_nr==1:\n",
    "        init_network_sequential += ([NodeParentPair('treatment_' + str(treatment_nr), \n",
    "                                                       context_columns + ['treatment_' + str(treatment_nr-1)])])\n",
    "    else:\n",
    "        init_network_sequential += [NodeParentPair('treatment_' + str(treatment_nr), context_columns + ['age_at_diagnosis'])]"
   ]
  },
  {
   "cell_type": "code",
   "execution_count": 39,
   "metadata": {},
   "outputs": [
    {
     "data": {
      "text/plain": [
       "[NodeParentPair(node='treatment_1', parents=['tum_topo_code', 'stadium', 'survival_1', 'age_at_diagnosis']),\n",
       " NodeParentPair(node='treatment_2', parents=['tum_topo_code', 'stadium', 'survival_1', 'treatment_1']),\n",
       " NodeParentPair(node='treatment_3', parents=['tum_topo_code', 'stadium', 'survival_1', 'treatment_2']),\n",
       " NodeParentPair(node='treatment_4', parents=['tum_topo_code', 'stadium', 'survival_1', 'treatment_3']),\n",
       " NodeParentPair(node='treatment_5', parents=['tum_topo_code', 'stadium', 'survival_1', 'treatment_4'])]"
      ]
     },
     "execution_count": 39,
     "metadata": {},
     "output_type": "execute_result"
    }
   ],
   "source": [
    "init_network_sequential"
   ]
  },
  {
   "cell_type": "markdown",
   "metadata": {},
   "source": [
    "#### Add sequential network to static network"
   ]
  },
  {
   "cell_type": "code",
   "execution_count": 40,
   "metadata": {},
   "outputs": [],
   "source": [
    "init_network = network_static + init_network_sequential"
   ]
  },
  {
   "cell_type": "markdown",
   "metadata": {},
   "source": [
    "#### Run PrivBayes with initialized network"
   ]
  },
  {
   "cell_type": "code",
   "execution_count": 41,
   "metadata": {
    "collapsed": true
   },
   "outputs": [
    {
     "data": {
      "text/plain": [
       "<synthesis.synthesizers.privbayes.PrivBayes at 0x205542b0b48>"
      ]
     },
     "execution_count": 41,
     "metadata": {},
     "output_type": "execute_result"
    },
    {
     "name": "stdout",
     "output_type": "stream",
     "text": [
      "1/14 - init node sequence_length - with parents: None\n",
      "2/14 - init node tum_lymfklieren_positief_atl - with parents: ('sequence_length',)\n",
      "3/14 - init node pat_geslacht_code - with parents: ('sequence_length', 'tum_lymfklieren_positief_atl')\n",
      "4/14 - init node tum_topo_sublokalisatie_code - with parents: ('sequence_length', 'pat_geslacht_code', 'tum_lymfklieren_positief_atl')\n",
      "5/14 - init node stadium - with parents: ('tum_topo_sublokalisatie_code', 'sequence_length', 'tum_lymfklieren_positief_atl')\n",
      "6/14 - init node survival_1 - with parents: ('tum_topo_sublokalisatie_code', 'sequence_length', 'pat_geslacht_code', 'stadium')\n",
      "7/14 - init node tum_topo_code - with parents: ('tum_topo_sublokalisatie_code', 'sequence_length', 'stadium')\n",
      "8/14 - init node tum_differentiatiegraad_code - with parents: ('stadium', 'sequence_length', 'survival_1', 'tum_lymfklieren_positief_atl')\n",
      "9/14 - init node age_at_diagnosis - with parents: ('tum_topo_code', 'tum_topo_sublokalisatie_code', 'sequence_length', 'pat_geslacht_code')\n",
      "10/14 - init node treatment_1 - with parents: ['tum_topo_code', 'stadium', 'survival_1', 'age_at_diagnosis']\n",
      "11/14 - init node treatment_2 - with parents: ['tum_topo_code', 'stadium', 'survival_1', 'treatment_1']\n",
      "12/14 - init node treatment_3 - with parents: ['tum_topo_code', 'stadium', 'survival_1', 'treatment_2']\n",
      "13/14 - init node treatment_4 - with parents: ['tum_topo_code', 'stadium', 'survival_1', 'treatment_3']\n",
      "14/14 - init node treatment_5 - with parents: ['tum_topo_code', 'stadium', 'survival_1', 'treatment_4']\n",
      "Learned Network Structure\n",
      "\n",
      "Learning conditional probabilities: sequence_length - with parents None ~ estimated size: 5\n",
      "Learning conditional probabilities: tum_lymfklieren_positief_atl - with parents ('sequence_length',) ~ estimated size: 15\n",
      "Learning conditional probabilities: pat_geslacht_code - with parents ('sequence_length', 'tum_lymfklieren_positief_atl') ~ estimated size: 30\n",
      "Learning conditional probabilities: tum_topo_sublokalisatie_code - with parents ('sequence_length', 'pat_geslacht_code', 'tum_lymfklieren_positief_atl') ~ estimated size: 300\n",
      "Learning conditional probabilities: stadium - with parents ('tum_topo_sublokalisatie_code', 'sequence_length', 'tum_lymfklieren_positief_atl') ~ estimated size: 1050\n",
      "Learning conditional probabilities: survival_1 - with parents ('tum_topo_sublokalisatie_code', 'sequence_length', 'pat_geslacht_code', 'stadium') ~ estimated size: 1400\n",
      "Learning conditional probabilities: tum_topo_code - with parents ('tum_topo_sublokalisatie_code', 'sequence_length', 'stadium') ~ estimated size: 1050\n",
      "Learning conditional probabilities: tum_differentiatiegraad_code - with parents ('stadium', 'sequence_length', 'survival_1', 'tum_lymfklieren_positief_atl') ~ estimated size: 1050\n",
      "Learning conditional probabilities: age_at_diagnosis - with parents ('tum_topo_code', 'tum_topo_sublokalisatie_code', 'sequence_length', 'pat_geslacht_code') ~ estimated size: 1800\n",
      "Learning conditional probabilities: treatment_1 - with parents ['tum_topo_code', 'stadium', 'survival_1', 'age_at_diagnosis'] ~ estimated size: 3276\n",
      "Learning conditional probabilities: treatment_2 - with parents ['tum_topo_code', 'stadium', 'survival_1', 'treatment_1'] ~ estimated size: 7644\n",
      "Learning conditional probabilities: treatment_3 - with parents ['tum_topo_code', 'stadium', 'survival_1', 'treatment_2'] ~ estimated size: 8232\n",
      "Learning conditional probabilities: treatment_4 - with parents ['tum_topo_code', 'stadium', 'survival_1', 'treatment_3'] ~ estimated size: 8232\n",
      "Learning conditional probabilities: treatment_5 - with parents ['tum_topo_code', 'stadium', 'survival_1', 'treatment_4'] ~ estimated size: 7644\n"
     ]
    },
    {
     "data": {
      "text/plain": [
       "<synthesis.synthesizers.privbayes.PrivBayes at 0x205542b0b48>"
      ]
     },
     "execution_count": 41,
     "metadata": {},
     "output_type": "execute_result"
    }
   ],
   "source": [
    "# Train\n",
    "pb = PrivBayes(epsilon=epsilon, verbose=True)\n",
    "pb.set_network(init_network)\n",
    "pb.fit(df)"
   ]
  },
  {
   "cell_type": "code",
   "execution_count": 42,
   "metadata": {},
   "outputs": [
    {
     "name": "stdout",
     "output_type": "stream",
     "text": [
      "Number of records generated: 191913 / 191913\n",
      "Synthetic Data Generated\n",
      "\n"
     ]
    }
   ],
   "source": [
    "# Synthesize data\n",
    "df_pb = pb.sample()"
   ]
  },
  {
   "cell_type": "markdown",
   "metadata": {},
   "source": [
    "#### Post-processing"
   ]
  },
  {
   "cell_type": "code",
   "execution_count": 43,
   "metadata": {},
   "outputs": [],
   "source": [
    "df_static, _ = fts.inverse_transform(df)\n",
    "df_treatments = treatments.sort_values(['eid', 'gbs_vnr'])\n",
    "df_static_pb, df_treatments_pb = fts.inverse_transform(df_pb)"
   ]
  },
  {
   "cell_type": "code",
   "execution_count": 44,
   "metadata": {},
   "outputs": [],
   "source": [
    "df_static_pb.to_pickle('../synthetic_data/PBS_eps1_tumours.pickle')\n",
    "df_treatments_pb.to_pickle('../synthetic_data/PBS_eps1_treatments.pickle')"
   ]
  },
  {
   "cell_type": "markdown",
   "metadata": {},
   "source": [
    "### Epsilon 0.1"
   ]
  },
  {
   "cell_type": "code",
   "execution_count": 60,
   "metadata": {},
   "outputs": [],
   "source": [
    "epsilon = 0.1"
   ]
  },
  {
   "cell_type": "markdown",
   "metadata": {},
   "source": [
    "#### Static data only to find static network"
   ]
  },
  {
   "cell_type": "code",
   "execution_count": 61,
   "metadata": {},
   "outputs": [],
   "source": [
    "df_static = df.iloc[:, :9]"
   ]
  },
  {
   "cell_type": "code",
   "execution_count": 64,
   "metadata": {
    "collapsed": true
   },
   "outputs": [
    {
     "name": "stdout",
     "output_type": "stream",
     "text": [
      "1/9 - Root of network: stadium\n",
      "\n",
      "2/9 - Evaluating next node to add to network\n",
      "Number of NodeParentPair candidates: 8\n",
      "Candidates: [NodeParentPair(node='tum_topo_sublokalisatie_code', parents=('stadium',)), NodeParentPair(node='sequence_length', parents=('stadium',)), NodeParentPair(node='pat_geslacht_code', parents=('stadium',)), NodeParentPair(node='tum_differentiatiegraad_code', parents=('stadium',)), NodeParentPair(node='tum_topo_code', parents=('stadium',)), NodeParentPair(node='age_at_diagnosis', parents=('stadium',)), NodeParentPair(node='survival_1', parents=('stadium',)), NodeParentPair(node='tum_lymfklieren_positief_atl', parents=('stadium',))]\n",
      "Selected node: 'survival_1' - with parents: ('stadium',)\n",
      "\n",
      "3/9 - Evaluating next node to add to network\n",
      "Number of NodeParentPair candidates: 7\n",
      "Candidates: [NodeParentPair(node='tum_topo_sublokalisatie_code', parents=('survival_1', 'stadium')), NodeParentPair(node='sequence_length', parents=('survival_1', 'stadium')), NodeParentPair(node='pat_geslacht_code', parents=('survival_1', 'stadium')), NodeParentPair(node='tum_differentiatiegraad_code', parents=('survival_1', 'stadium')), NodeParentPair(node='tum_topo_code', parents=('survival_1', 'stadium')), NodeParentPair(node='age_at_diagnosis', parents=('survival_1', 'stadium')), NodeParentPair(node='tum_lymfklieren_positief_atl', parents=('survival_1', 'stadium'))]\n",
      "Selected node: 'pat_geslacht_code' - with parents: ('survival_1', 'stadium')\n",
      "\n",
      "4/9 - Evaluating next node to add to network\n",
      "Number of NodeParentPair candidates: 8\n",
      "Candidates: [NodeParentPair(node='tum_topo_sublokalisatie_code', parents=('survival_1', 'pat_geslacht_code')), NodeParentPair(node='tum_topo_sublokalisatie_code', parents=('pat_geslacht_code', 'stadium')), NodeParentPair(node='tum_topo_sublokalisatie_code', parents=('survival_1', 'stadium')), NodeParentPair(node='sequence_length', parents=('survival_1', 'pat_geslacht_code', 'stadium')), NodeParentPair(node='tum_differentiatiegraad_code', parents=('survival_1', 'pat_geslacht_code', 'stadium')), NodeParentPair(node='tum_topo_code', parents=('survival_1', 'pat_geslacht_code', 'stadium')), NodeParentPair(node='age_at_diagnosis', parents=('survival_1', 'pat_geslacht_code', 'stadium')), NodeParentPair(node='tum_lymfklieren_positief_atl', parents=('survival_1', 'pat_geslacht_code', 'stadium'))]\n",
      "Selected node: 'age_at_diagnosis' - with parents: ('survival_1', 'pat_geslacht_code', 'stadium')\n",
      "\n",
      "5/9 - Evaluating next node to add to network\n",
      "Number of NodeParentPair candidates: 15\n",
      "Candidates: [NodeParentPair(node='tum_topo_sublokalisatie_code', parents=('pat_geslacht_code', 'stadium')), NodeParentPair(node='tum_topo_sublokalisatie_code', parents=('age_at_diagnosis', 'pat_geslacht_code')), NodeParentPair(node='tum_topo_sublokalisatie_code', parents=('survival_1', 'pat_geslacht_code')), NodeParentPair(node='tum_topo_sublokalisatie_code', parents=('age_at_diagnosis', 'survival_1')), NodeParentPair(node='tum_topo_sublokalisatie_code', parents=('survival_1', 'stadium')), NodeParentPair(node='sequence_length', parents=('survival_1', 'pat_geslacht_code', 'stadium')), NodeParentPair(node='sequence_length', parents=('age_at_diagnosis', 'survival_1', 'pat_geslacht_code')), NodeParentPair(node='tum_differentiatiegraad_code', parents=('age_at_diagnosis', 'survival_1', 'pat_geslacht_code')), NodeParentPair(node='tum_differentiatiegraad_code', parents=('survival_1', 'pat_geslacht_code', 'stadium')), NodeParentPair(node='tum_topo_code', parents=('age_at_diagnosis', 'stadium')), NodeParentPair(node='tum_topo_code', parents=('survival_1', 'pat_geslacht_code', 'stadium')), NodeParentPair(node='tum_topo_code', parents=('age_at_diagnosis', 'survival_1', 'pat_geslacht_code')), NodeParentPair(node='tum_lymfklieren_positief_atl', parents=('age_at_diagnosis', 'stadium')), NodeParentPair(node='tum_lymfklieren_positief_atl', parents=('age_at_diagnosis', 'survival_1', 'pat_geslacht_code')), NodeParentPair(node='tum_lymfklieren_positief_atl', parents=('survival_1', 'pat_geslacht_code', 'stadium'))]\n",
      "Selected node: 'tum_topo_sublokalisatie_code' - with parents: ('age_at_diagnosis', 'pat_geslacht_code')\n",
      "\n",
      "6/9 - Evaluating next node to add to network\n",
      "Number of NodeParentPair candidates: 18\n",
      "Candidates: [NodeParentPair(node='tum_topo_code', parents=('tum_topo_sublokalisatie_code', 'survival_1', 'pat_geslacht_code')), NodeParentPair(node='tum_topo_code', parents=('survival_1', 'pat_geslacht_code', 'stadium')), NodeParentPair(node='tum_topo_code', parents=('age_at_diagnosis', 'tum_topo_sublokalisatie_code')), NodeParentPair(node='tum_topo_code', parents=('age_at_diagnosis', 'stadium')), NodeParentPair(node='tum_topo_code', parents=('age_at_diagnosis', 'survival_1', 'pat_geslacht_code')), NodeParentPair(node='sequence_length', parents=('survival_1', 'pat_geslacht_code', 'stadium')), NodeParentPair(node='sequence_length', parents=('age_at_diagnosis', 'survival_1', 'pat_geslacht_code')), NodeParentPair(node='sequence_length', parents=('tum_topo_sublokalisatie_code', 'pat_geslacht_code')), NodeParentPair(node='sequence_length', parents=('tum_topo_sublokalisatie_code', 'survival_1')), NodeParentPair(node='tum_differentiatiegraad_code', parents=('tum_topo_sublokalisatie_code', 'survival_1')), NodeParentPair(node='tum_differentiatiegraad_code', parents=('age_at_diagnosis', 'survival_1', 'pat_geslacht_code')), NodeParentPair(node='tum_differentiatiegraad_code', parents=('tum_topo_sublokalisatie_code', 'pat_geslacht_code')), NodeParentPair(node='tum_differentiatiegraad_code', parents=('survival_1', 'pat_geslacht_code', 'stadium')), NodeParentPair(node='tum_lymfklieren_positief_atl', parents=('age_at_diagnosis', 'stadium')), NodeParentPair(node='tum_lymfklieren_positief_atl', parents=('age_at_diagnosis', 'tum_topo_sublokalisatie_code')), NodeParentPair(node='tum_lymfklieren_positief_atl', parents=('survival_1', 'pat_geslacht_code', 'stadium')), NodeParentPair(node='tum_lymfklieren_positief_atl', parents=('tum_topo_sublokalisatie_code', 'survival_1', 'pat_geslacht_code')), NodeParentPair(node='tum_lymfklieren_positief_atl', parents=('age_at_diagnosis', 'survival_1', 'pat_geslacht_code'))]\n",
      "Selected node: 'tum_topo_code' - with parents: ('age_at_diagnosis', 'tum_topo_sublokalisatie_code')\n",
      "\n",
      "7/9 - Evaluating next node to add to network\n",
      "Number of NodeParentPair candidates: 30\n",
      "Candidates: [NodeParentPair(node='sequence_length', parents=('tum_topo_code', 'stadium')), NodeParentPair(node='sequence_length', parents=('tum_topo_code', 'age_at_diagnosis', 'pat_geslacht_code')), NodeParentPair(node='sequence_length', parents=('tum_topo_sublokalisatie_code', 'pat_geslacht_code')), NodeParentPair(node='sequence_length', parents=('tum_topo_code', 'tum_topo_sublokalisatie_code')), NodeParentPair(node='sequence_length', parents=('tum_topo_sublokalisatie_code', 'survival_1')), NodeParentPair(node='sequence_length', parents=('tum_topo_code', 'age_at_diagnosis', 'survival_1')), NodeParentPair(node='sequence_length', parents=('survival_1', 'pat_geslacht_code', 'stadium')), NodeParentPair(node='sequence_length', parents=('age_at_diagnosis', 'survival_1', 'pat_geslacht_code')), NodeParentPair(node='sequence_length', parents=('tum_topo_code', 'survival_1', 'pat_geslacht_code')), NodeParentPair(node='tum_differentiatiegraad_code', parents=('tum_topo_code', 'stadium')), NodeParentPair(node='tum_differentiatiegraad_code', parents=('survival_1', 'pat_geslacht_code', 'stadium')), NodeParentPair(node='tum_differentiatiegraad_code', parents=('tum_topo_code', 'survival_1', 'pat_geslacht_code')), NodeParentPair(node='tum_differentiatiegraad_code', parents=('age_at_diagnosis', 'survival_1', 'pat_geslacht_code')), NodeParentPair(node='tum_differentiatiegraad_code', parents=('tum_topo_code', 'age_at_diagnosis', 'survival_1')), NodeParentPair(node='tum_differentiatiegraad_code', parents=('tum_topo_code', 'age_at_diagnosis', 'pat_geslacht_code')), NodeParentPair(node='tum_differentiatiegraad_code', parents=('tum_topo_sublokalisatie_code', 'pat_geslacht_code')), NodeParentPair(node='tum_differentiatiegraad_code', parents=('tum_topo_sublokalisatie_code', 'survival_1')), NodeParentPair(node='tum_differentiatiegraad_code', parents=('tum_topo_code', 'tum_topo_sublokalisatie_code')), NodeParentPair(node='tum_lymfklieren_positief_atl', parents=('age_at_diagnosis', 'tum_topo_sublokalisatie_code')), NodeParentPair(node='tum_lymfklieren_positief_atl', parents=('age_at_diagnosis', 'survival_1', 'pat_geslacht_code')), NodeParentPair(node='tum_lymfklieren_positief_atl', parents=('tum_topo_sublokalisatie_code', 'survival_1', 'pat_geslacht_code')), NodeParentPair(node='tum_lymfklieren_positief_atl', parents=('tum_topo_code', 'age_at_diagnosis', 'survival_1')), NodeParentPair(node='tum_lymfklieren_positief_atl', parents=('tum_topo_code', 'tum_topo_sublokalisatie_code', 'survival_1')), NodeParentPair(node='tum_lymfklieren_positief_atl', parents=('tum_topo_code', 'survival_1', 'pat_geslacht_code')), NodeParentPair(node='tum_lymfklieren_positief_atl', parents=('tum_topo_code', 'age_at_diagnosis', 'pat_geslacht_code')), NodeParentPair(node='tum_lymfklieren_positief_atl', parents=('tum_topo_code', 'tum_topo_sublokalisatie_code', 'pat_geslacht_code')), NodeParentPair(node='tum_lymfklieren_positief_atl', parents=('tum_topo_code', 'survival_1', 'stadium')), NodeParentPair(node='tum_lymfklieren_positief_atl', parents=('survival_1', 'pat_geslacht_code', 'stadium')), NodeParentPair(node='tum_lymfklieren_positief_atl', parents=('tum_topo_code', 'pat_geslacht_code', 'stadium')), NodeParentPair(node='tum_lymfklieren_positief_atl', parents=('age_at_diagnosis', 'stadium'))]\n"
     ]
    },
    {
     "name": "stdout",
     "output_type": "stream",
     "text": [
      "Selected node: 'tum_differentiatiegraad_code' - with parents: ('tum_topo_code', 'stadium')\n",
      "\n",
      "8/9 - Evaluating next node to add to network\n",
      "Number of NodeParentPair candidates: 30\n",
      "Candidates: [NodeParentPair(node='sequence_length', parents=('age_at_diagnosis', 'survival_1', 'pat_geslacht_code')), NodeParentPair(node='sequence_length', parents=('tum_topo_sublokalisatie_code', 'survival_1')), NodeParentPair(node='sequence_length', parents=('tum_topo_sublokalisatie_code', 'pat_geslacht_code')), NodeParentPair(node='sequence_length', parents=('age_at_diagnosis', 'tum_differentiatiegraad_code')), NodeParentPair(node='sequence_length', parents=('survival_1', 'pat_geslacht_code', 'tum_differentiatiegraad_code')), NodeParentPair(node='sequence_length', parents=('tum_topo_code', 'age_at_diagnosis', 'pat_geslacht_code')), NodeParentPair(node='sequence_length', parents=('tum_topo_code', 'pat_geslacht_code', 'tum_differentiatiegraad_code')), NodeParentPair(node='sequence_length', parents=('tum_topo_code', 'survival_1', 'tum_differentiatiegraad_code')), NodeParentPair(node='sequence_length', parents=('tum_topo_code', 'survival_1', 'pat_geslacht_code')), NodeParentPair(node='sequence_length', parents=('tum_topo_code', 'age_at_diagnosis', 'survival_1')), NodeParentPair(node='sequence_length', parents=('tum_topo_code', 'tum_topo_sublokalisatie_code')), NodeParentPair(node='sequence_length', parents=('tum_topo_code', 'stadium')), NodeParentPair(node='sequence_length', parents=('tum_differentiatiegraad_code', 'stadium')), NodeParentPair(node='sequence_length', parents=('survival_1', 'pat_geslacht_code', 'stadium')), NodeParentPair(node='tum_lymfklieren_positief_atl', parents=('age_at_diagnosis', 'stadium')), NodeParentPair(node='tum_lymfklieren_positief_atl', parents=('tum_differentiatiegraad_code', 'stadium')), NodeParentPair(node='tum_lymfklieren_positief_atl', parents=('age_at_diagnosis', 'survival_1', 'tum_differentiatiegraad_code')), NodeParentPair(node='tum_lymfklieren_positief_atl', parents=('tum_topo_code', 'age_at_diagnosis', 'survival_1')), NodeParentPair(node='tum_lymfklieren_positief_atl', parents=('tum_topo_code', 'survival_1', 'stadium')), NodeParentPair(node='tum_lymfklieren_positief_atl', parents=('age_at_diagnosis', 'pat_geslacht_code', 'tum_differentiatiegraad_code')), NodeParentPair(node='tum_lymfklieren_positief_atl', parents=('age_at_diagnosis', 'survival_1', 'pat_geslacht_code')), NodeParentPair(node='tum_lymfklieren_positief_atl', parents=('survival_1', 'pat_geslacht_code', 'stadium')), NodeParentPair(node='tum_lymfklieren_positief_atl', parents=('tum_topo_code', 'pat_geslacht_code', 'stadium')), NodeParentPair(node='tum_lymfklieren_positief_atl', parents=('tum_topo_code', 'age_at_diagnosis', 'pat_geslacht_code')), NodeParentPair(node='tum_lymfklieren_positief_atl', parents=('tum_topo_code', 'pat_geslacht_code', 'survival_1', 'tum_differentiatiegraad_code')), NodeParentPair(node='tum_lymfklieren_positief_atl', parents=('tum_topo_sublokalisatie_code', 'survival_1', 'pat_geslacht_code')), NodeParentPair(node='tum_lymfklieren_positief_atl', parents=('tum_topo_sublokalisatie_code', 'tum_differentiatiegraad_code')), NodeParentPair(node='tum_lymfklieren_positief_atl', parents=('tum_topo_code', 'tum_topo_sublokalisatie_code', 'survival_1')), NodeParentPair(node='tum_lymfklieren_positief_atl', parents=('tum_topo_code', 'tum_topo_sublokalisatie_code', 'pat_geslacht_code')), NodeParentPair(node='tum_lymfklieren_positief_atl', parents=('age_at_diagnosis', 'tum_topo_sublokalisatie_code'))]\n",
      "Selected node: 'tum_lymfklieren_positief_atl' - with parents: ('survival_1', 'pat_geslacht_code', 'stadium')\n",
      "\n",
      "9/9 - Evaluating next node to add to network\n",
      "Number of NodeParentPair candidates: 20\n",
      "Candidates: [NodeParentPair(node='sequence_length', parents=('stadium', 'tum_lymfklieren_positief_atl')), NodeParentPair(node='sequence_length', parents=('age_at_diagnosis', 'survival_1', 'tum_lymfklieren_positief_atl')), NodeParentPair(node='sequence_length', parents=('survival_1', 'pat_geslacht_code', 'stadium')), NodeParentPair(node='sequence_length', parents=('age_at_diagnosis', 'pat_geslacht_code', 'tum_lymfklieren_positief_atl')), NodeParentPair(node='sequence_length', parents=('age_at_diagnosis', 'survival_1', 'pat_geslacht_code')), NodeParentPair(node='sequence_length', parents=('tum_topo_code', 'stadium')), NodeParentPair(node='sequence_length', parents=('tum_topo_code', 'age_at_diagnosis', 'pat_geslacht_code')), NodeParentPair(node='sequence_length', parents=('tum_topo_code', 'survival_1', 'pat_geslacht_code', 'tum_lymfklieren_positief_atl')), NodeParentPair(node='sequence_length', parents=('tum_topo_code', 'age_at_diagnosis', 'survival_1')), NodeParentPair(node='sequence_length', parents=('age_at_diagnosis', 'tum_differentiatiegraad_code')), NodeParentPair(node='sequence_length', parents=('tum_differentiatiegraad_code', 'stadium')), NodeParentPair(node='sequence_length', parents=('survival_1', 'tum_differentiatiegraad_code', 'tum_lymfklieren_positief_atl')), NodeParentPair(node='sequence_length', parents=('survival_1', 'pat_geslacht_code', 'tum_differentiatiegraad_code')), NodeParentPair(node='sequence_length', parents=('tum_differentiatiegraad_code', 'pat_geslacht_code', 'tum_lymfklieren_positief_atl')), NodeParentPair(node='sequence_length', parents=('tum_topo_code', 'survival_1', 'tum_differentiatiegraad_code')), NodeParentPair(node='sequence_length', parents=('tum_topo_code', 'pat_geslacht_code', 'tum_differentiatiegraad_code')), NodeParentPair(node='sequence_length', parents=('tum_topo_sublokalisatie_code', 'survival_1')), NodeParentPair(node='sequence_length', parents=('tum_topo_code', 'tum_topo_sublokalisatie_code')), NodeParentPair(node='sequence_length', parents=('tum_topo_sublokalisatie_code', 'tum_lymfklieren_positief_atl')), NodeParentPair(node='sequence_length', parents=('tum_topo_sublokalisatie_code', 'pat_geslacht_code'))]\n",
      "Selected node: 'sequence_length' - with parents: ('age_at_diagnosis', 'pat_geslacht_code', 'tum_lymfklieren_positief_atl')\n",
      "\n",
      "Learned Network Structure\n",
      "\n",
      "Learning conditional probabilities: stadium - with parents None ~ estimated size: 7\n",
      "Learning conditional probabilities: survival_1 - with parents ('stadium',) ~ estimated size: 14\n",
      "Learning conditional probabilities: pat_geslacht_code - with parents ('survival_1', 'stadium') ~ estimated size: 28\n",
      "Learning conditional probabilities: age_at_diagnosis - with parents ('survival_1', 'pat_geslacht_code', 'stadium') ~ estimated size: 168\n",
      "Learning conditional probabilities: tum_topo_sublokalisatie_code - with parents ('age_at_diagnosis', 'pat_geslacht_code') ~ estimated size: 120\n",
      "Learning conditional probabilities: tum_topo_code - with parents ('age_at_diagnosis', 'tum_topo_sublokalisatie_code') ~ estimated size: 180\n",
      "Learning conditional probabilities: tum_differentiatiegraad_code - with parents ('tum_topo_code', 'stadium') ~ estimated size: 105\n",
      "Learning conditional probabilities: tum_lymfklieren_positief_atl - with parents ('survival_1', 'pat_geslacht_code', 'stadium') ~ estimated size: 84\n",
      "Learning conditional probabilities: sequence_length - with parents ('age_at_diagnosis', 'pat_geslacht_code', 'tum_lymfklieren_positief_atl') ~ estimated size: 180\n"
     ]
    },
    {
     "data": {
      "text/plain": [
       "<synthesis.synthesizers.privbayes.PrivBayes at 0x205542bfcc8>"
      ]
     },
     "execution_count": 64,
     "metadata": {},
     "output_type": "execute_result"
    }
   ],
   "source": [
    "pb = PrivBayes(epsilon=epsilon, verbose=True)\n",
    "pb.fit(df_static)"
   ]
  },
  {
   "cell_type": "code",
   "execution_count": 65,
   "metadata": {},
   "outputs": [],
   "source": [
    "network_static = deepcopy(pb.network_)"
   ]
  },
  {
   "cell_type": "code",
   "execution_count": 66,
   "metadata": {},
   "outputs": [
    {
     "data": {
      "text/plain": [
       "[NodeParentPair(node='stadium', parents=None),\n",
       " NodeParentPair(node='survival_1', parents=('stadium',)),\n",
       " NodeParentPair(node='pat_geslacht_code', parents=('survival_1', 'stadium')),\n",
       " NodeParentPair(node='age_at_diagnosis', parents=('survival_1', 'pat_geslacht_code', 'stadium')),\n",
       " NodeParentPair(node='tum_topo_sublokalisatie_code', parents=('age_at_diagnosis', 'pat_geslacht_code')),\n",
       " NodeParentPair(node='tum_topo_code', parents=('age_at_diagnosis', 'tum_topo_sublokalisatie_code')),\n",
       " NodeParentPair(node='tum_differentiatiegraad_code', parents=('tum_topo_code', 'stadium')),\n",
       " NodeParentPair(node='tum_lymfklieren_positief_atl', parents=('survival_1', 'pat_geslacht_code', 'stadium')),\n",
       " NodeParentPair(node='sequence_length', parents=('age_at_diagnosis', 'pat_geslacht_code', 'tum_lymfklieren_positief_atl'))]"
      ]
     },
     "execution_count": 66,
     "metadata": {},
     "output_type": "execute_result"
    }
   ],
   "source": [
    "network_static"
   ]
  },
  {
   "cell_type": "markdown",
   "metadata": {},
   "source": [
    "#### Sequential network definition"
   ]
  },
  {
   "cell_type": "code",
   "execution_count": 67,
   "metadata": {},
   "outputs": [],
   "source": [
    "context_columns = ['tum_topo_code', 'stadium', 'survival_1']\n",
    "max_treatments = 5\n",
    "\n",
    "init_network_sequential = []\n",
    "for treatment_nr in range(1, max_treatments+1):\n",
    "    if not treatment_nr==1:\n",
    "        init_network_sequential += ([NodeParentPair('treatment_' + str(treatment_nr), \n",
    "                                                       context_columns + ['treatment_' + str(treatment_nr-1)])])\n",
    "    else:\n",
    "        init_network_sequential += [NodeParentPair('treatment_' + str(treatment_nr), context_columns + ['age_at_diagnosis'])]"
   ]
  },
  {
   "cell_type": "code",
   "execution_count": 68,
   "metadata": {},
   "outputs": [
    {
     "data": {
      "text/plain": [
       "[NodeParentPair(node='treatment_1', parents=['tum_topo_code', 'stadium', 'survival_1', 'age_at_diagnosis']),\n",
       " NodeParentPair(node='treatment_2', parents=['tum_topo_code', 'stadium', 'survival_1', 'treatment_1']),\n",
       " NodeParentPair(node='treatment_3', parents=['tum_topo_code', 'stadium', 'survival_1', 'treatment_2']),\n",
       " NodeParentPair(node='treatment_4', parents=['tum_topo_code', 'stadium', 'survival_1', 'treatment_3']),\n",
       " NodeParentPair(node='treatment_5', parents=['tum_topo_code', 'stadium', 'survival_1', 'treatment_4'])]"
      ]
     },
     "execution_count": 68,
     "metadata": {},
     "output_type": "execute_result"
    }
   ],
   "source": [
    "init_network_sequential"
   ]
  },
  {
   "cell_type": "markdown",
   "metadata": {},
   "source": [
    "#### Add sequential network to static network"
   ]
  },
  {
   "cell_type": "code",
   "execution_count": 69,
   "metadata": {},
   "outputs": [],
   "source": [
    "init_network = network_static + init_network_sequential"
   ]
  },
  {
   "cell_type": "markdown",
   "metadata": {},
   "source": [
    "#### Run PrivBayes with initialized network"
   ]
  },
  {
   "cell_type": "code",
   "execution_count": 70,
   "metadata": {
    "collapsed": true
   },
   "outputs": [
    {
     "data": {
      "text/plain": [
       "<synthesis.synthesizers.privbayes.PrivBayes at 0x2056d534308>"
      ]
     },
     "execution_count": 70,
     "metadata": {},
     "output_type": "execute_result"
    },
    {
     "name": "stdout",
     "output_type": "stream",
     "text": [
      "1/14 - init node stadium - with parents: None\n",
      "2/14 - init node survival_1 - with parents: ('stadium',)\n",
      "3/14 - init node pat_geslacht_code - with parents: ('survival_1', 'stadium')\n",
      "4/14 - init node age_at_diagnosis - with parents: ('survival_1', 'pat_geslacht_code', 'stadium')\n",
      "5/14 - init node tum_topo_sublokalisatie_code - with parents: ('age_at_diagnosis', 'pat_geslacht_code')\n",
      "6/14 - init node tum_topo_code - with parents: ('age_at_diagnosis', 'tum_topo_sublokalisatie_code')\n",
      "7/14 - init node tum_differentiatiegraad_code - with parents: ('tum_topo_code', 'stadium')\n",
      "8/14 - init node tum_lymfklieren_positief_atl - with parents: ('survival_1', 'pat_geslacht_code', 'stadium')\n",
      "9/14 - init node sequence_length - with parents: ('age_at_diagnosis', 'pat_geslacht_code', 'tum_lymfklieren_positief_atl')\n",
      "10/14 - init node treatment_1 - with parents: ['tum_topo_code', 'stadium', 'survival_1', 'age_at_diagnosis']\n",
      "11/14 - init node treatment_2 - with parents: ['tum_topo_code', 'stadium', 'survival_1', 'treatment_1']\n",
      "12/14 - init node treatment_3 - with parents: ['tum_topo_code', 'stadium', 'survival_1', 'treatment_2']\n",
      "13/14 - init node treatment_4 - with parents: ['tum_topo_code', 'stadium', 'survival_1', 'treatment_3']\n",
      "14/14 - init node treatment_5 - with parents: ['tum_topo_code', 'stadium', 'survival_1', 'treatment_4']\n",
      "Learned Network Structure\n",
      "\n",
      "Learning conditional probabilities: stadium - with parents None ~ estimated size: 7\n",
      "Learning conditional probabilities: survival_1 - with parents ('stadium',) ~ estimated size: 14\n",
      "Learning conditional probabilities: pat_geslacht_code - with parents ('survival_1', 'stadium') ~ estimated size: 28\n",
      "Learning conditional probabilities: age_at_diagnosis - with parents ('survival_1', 'pat_geslacht_code', 'stadium') ~ estimated size: 168\n",
      "Learning conditional probabilities: tum_topo_sublokalisatie_code - with parents ('age_at_diagnosis', 'pat_geslacht_code') ~ estimated size: 120\n",
      "Learning conditional probabilities: tum_topo_code - with parents ('age_at_diagnosis', 'tum_topo_sublokalisatie_code') ~ estimated size: 180\n",
      "Learning conditional probabilities: tum_differentiatiegraad_code - with parents ('tum_topo_code', 'stadium') ~ estimated size: 105\n",
      "Learning conditional probabilities: tum_lymfklieren_positief_atl - with parents ('survival_1', 'pat_geslacht_code', 'stadium') ~ estimated size: 84\n",
      "Learning conditional probabilities: sequence_length - with parents ('age_at_diagnosis', 'pat_geslacht_code', 'tum_lymfklieren_positief_atl') ~ estimated size: 180\n",
      "Learning conditional probabilities: treatment_1 - with parents ['tum_topo_code', 'stadium', 'survival_1', 'age_at_diagnosis'] ~ estimated size: 3276\n",
      "Learning conditional probabilities: treatment_2 - with parents ['tum_topo_code', 'stadium', 'survival_1', 'treatment_1'] ~ estimated size: 7644\n",
      "Learning conditional probabilities: treatment_3 - with parents ['tum_topo_code', 'stadium', 'survival_1', 'treatment_2'] ~ estimated size: 8232\n",
      "Learning conditional probabilities: treatment_4 - with parents ['tum_topo_code', 'stadium', 'survival_1', 'treatment_3'] ~ estimated size: 8232\n",
      "Learning conditional probabilities: treatment_5 - with parents ['tum_topo_code', 'stadium', 'survival_1', 'treatment_4'] ~ estimated size: 7644\n"
     ]
    },
    {
     "data": {
      "text/plain": [
       "<synthesis.synthesizers.privbayes.PrivBayes at 0x2056d534308>"
      ]
     },
     "execution_count": 70,
     "metadata": {},
     "output_type": "execute_result"
    }
   ],
   "source": [
    "# Train\n",
    "pb = PrivBayes(epsilon=epsilon, verbose=True)\n",
    "pb.set_network(init_network)\n",
    "pb.fit(df)"
   ]
  },
  {
   "cell_type": "code",
   "execution_count": 71,
   "metadata": {},
   "outputs": [
    {
     "name": "stdout",
     "output_type": "stream",
     "text": [
      "Number of records generated: 191913 / 191913\n",
      "Synthetic Data Generated\n",
      "\n"
     ]
    }
   ],
   "source": [
    "# Synthesize data\n",
    "df_pb = pb.sample()"
   ]
  },
  {
   "cell_type": "markdown",
   "metadata": {},
   "source": [
    "#### Post-processing"
   ]
  },
  {
   "cell_type": "code",
   "execution_count": 72,
   "metadata": {},
   "outputs": [],
   "source": [
    "df_static, _ = fts.inverse_transform(df)\n",
    "df_treatments = treatments.sort_values(['eid', 'gbs_vnr'])\n",
    "df_static_pb, df_treatments_pb = fts.inverse_transform(df_pb)"
   ]
  },
  {
   "cell_type": "code",
   "execution_count": 73,
   "metadata": {},
   "outputs": [],
   "source": [
    "df_static_pb.to_pickle('../synthetic_data/PBS_eps0.1_tumours.pickle')\n",
    "df_treatments_pb.to_pickle('../synthetic_data/PBS_eps0.1_treatments.pickle')"
   ]
  }
 ],
 "metadata": {
  "kernelspec": {
   "display_name": "Python 3",
   "language": "python",
   "name": "python3"
  },
  "language_info": {
   "codemirror_mode": {
    "name": "ipython",
    "version": 3
   },
   "file_extension": ".py",
   "mimetype": "text/x-python",
   "name": "python",
   "nbconvert_exporter": "python",
   "pygments_lexer": "ipython3",
   "version": "3.7.9"
  },
  "toc": {
   "base_numbering": 1,
   "nav_menu": {},
   "number_sections": true,
   "sideBar": true,
   "skip_h1_title": false,
   "title_cell": "Table of Contents",
   "title_sidebar": "Contents",
   "toc_cell": false,
   "toc_position": {},
   "toc_section_display": true,
   "toc_window_display": false
  },
  "varInspector": {
   "cols": {
    "lenName": 16,
    "lenType": 16,
    "lenVar": 40
   },
   "kernels_config": {
    "python": {
     "delete_cmd_postfix": "",
     "delete_cmd_prefix": "del ",
     "library": "var_list.py",
     "varRefreshCmd": "print(var_dic_list())"
    },
    "r": {
     "delete_cmd_postfix": ") ",
     "delete_cmd_prefix": "rm(",
     "library": "var_list.r",
     "varRefreshCmd": "cat(var_dic_list()) "
    }
   },
   "types_to_exclude": [
    "module",
    "function",
    "builtin_function_or_method",
    "instance",
    "_Feature"
   ],
   "window_display": false
  }
 },
 "nbformat": 4,
 "nbformat_minor": 4
}
