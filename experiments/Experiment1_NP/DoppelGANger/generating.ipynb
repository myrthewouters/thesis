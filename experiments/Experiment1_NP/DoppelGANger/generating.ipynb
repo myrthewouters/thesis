{
 "cells": [
  {
   "cell_type": "code",
   "execution_count": 1,
   "metadata": {},
   "outputs": [
    {
     "name": "stderr",
     "output_type": "stream",
     "text": [
      "C:\\Users\\mwo2008.54063\\.conda\\envs\\doppelganger\\lib\\site-packages\\tensorflow\\python\\framework\\dtypes.py:469: FutureWarning: Passing (type, 1) or '1type' as a synonym of type is deprecated; in a future version of numpy, it will be understood as (type, (1,)) / '(1,)type'.\n",
      "  _np_qint8 = np.dtype([(\"qint8\", np.int8, 1)])\n",
      "C:\\Users\\mwo2008.54063\\.conda\\envs\\doppelganger\\lib\\site-packages\\tensorflow\\python\\framework\\dtypes.py:470: FutureWarning: Passing (type, 1) or '1type' as a synonym of type is deprecated; in a future version of numpy, it will be understood as (type, (1,)) / '(1,)type'.\n",
      "  _np_quint8 = np.dtype([(\"quint8\", np.uint8, 1)])\n",
      "C:\\Users\\mwo2008.54063\\.conda\\envs\\doppelganger\\lib\\site-packages\\tensorflow\\python\\framework\\dtypes.py:471: FutureWarning: Passing (type, 1) or '1type' as a synonym of type is deprecated; in a future version of numpy, it will be understood as (type, (1,)) / '(1,)type'.\n",
      "  _np_qint16 = np.dtype([(\"qint16\", np.int16, 1)])\n",
      "C:\\Users\\mwo2008.54063\\.conda\\envs\\doppelganger\\lib\\site-packages\\tensorflow\\python\\framework\\dtypes.py:472: FutureWarning: Passing (type, 1) or '1type' as a synonym of type is deprecated; in a future version of numpy, it will be understood as (type, (1,)) / '(1,)type'.\n",
      "  _np_quint16 = np.dtype([(\"quint16\", np.uint16, 1)])\n",
      "C:\\Users\\mwo2008.54063\\.conda\\envs\\doppelganger\\lib\\site-packages\\tensorflow\\python\\framework\\dtypes.py:473: FutureWarning: Passing (type, 1) or '1type' as a synonym of type is deprecated; in a future version of numpy, it will be understood as (type, (1,)) / '(1,)type'.\n",
      "  _np_qint32 = np.dtype([(\"qint32\", np.int32, 1)])\n",
      "C:\\Users\\mwo2008.54063\\.conda\\envs\\doppelganger\\lib\\site-packages\\tensorflow\\python\\framework\\dtypes.py:476: FutureWarning: Passing (type, 1) or '1type' as a synonym of type is deprecated; in a future version of numpy, it will be understood as (type, (1,)) / '(1,)type'.\n",
      "  np_resource = np.dtype([(\"resource\", np.ubyte, 1)])\n"
     ]
    }
   ],
   "source": [
    "import sys\n",
    "sys.path.append(\"..\")\n",
    "\n",
    "from gan import output\n",
    "sys.modules[\"output\"] = output\n",
    "\n",
    "from gan.doppelganger import DoppelGANger\n",
    "from gan.util import add_gen_flag, normalize_per_sample, renormalize_per_sample\n",
    "from gan.load_data import load_data\n",
    "from gan.network import DoppelGANgerGenerator, Discriminator, AttrDiscriminator\n",
    "import os\n",
    "import tensorflow as tf"
   ]
  },
  {
   "cell_type": "code",
   "execution_count": 2,
   "metadata": {},
   "outputs": [
    {
     "name": "stdout",
     "output_type": "stream",
     "text": [
      "(191913, 5, 47)\n",
      "(191913, 38)\n",
      "(191913, 5)\n"
     ]
    }
   ],
   "source": [
    "sample_len = 1\n",
    "\n",
    "data_feature, data_attribute, data_gen_flag, data_feature_outputs, data_attribute_outputs = load_data(\n",
    "    '../../../../../../Master Thesis/data/doppelGANger/final/')\n",
    "print(data_feature.shape)\n",
    "print(data_attribute.shape)\n",
    "print(data_gen_flag.shape)"
   ]
  },
  {
   "cell_type": "code",
   "execution_count": 3,
   "metadata": {},
   "outputs": [
    {
     "name": "stdout",
     "output_type": "stream",
     "text": [
      "[True, True, True, True, True, True, True, True]\n",
      "(191913, 5, 47)\n",
      "(191913, 38)\n",
      "8\n"
     ]
    }
   ],
   "source": [
    "real_attribute_mask = [True] * len(data_attribute_outputs)\n",
    "\n",
    "print(real_attribute_mask)\n",
    "print(data_feature.shape)\n",
    "print(data_attribute.shape)\n",
    "print(len(data_attribute_outputs))"
   ]
  },
  {
   "cell_type": "code",
   "execution_count": 4,
   "metadata": {},
   "outputs": [
    {
     "name": "stdout",
     "output_type": "stream",
     "text": [
      "(191913, 5, 49)\n",
      "2\n"
     ]
    }
   ],
   "source": [
    "data_feature, data_feature_outputs = add_gen_flag(data_feature, data_gen_flag, data_feature_outputs, sample_len)\n",
    "print(data_feature.shape)\n",
    "print(len(data_feature_outputs))"
   ]
  },
  {
   "cell_type": "code",
   "execution_count": 5,
   "metadata": {},
   "outputs": [],
   "source": [
    "generator = DoppelGANgerGenerator(feed_back=False,\n",
    "                                  noise=True,\n",
    "                                  feature_outputs=data_feature_outputs,\n",
    "                                  attribute_outputs=data_attribute_outputs,\n",
    "                                  real_attribute_mask=real_attribute_mask,\n",
    "                                  sample_len=sample_len)\n",
    "discriminator = Discriminator()"
   ]
  },
  {
   "cell_type": "code",
   "execution_count": 6,
   "metadata": {},
   "outputs": [],
   "source": [
    "checkpoint_dir = \"C:/Users/mwo2008.54063/Documents/BitBucket/synthetic-sequential/generation/NoPrivacy/DoppelGANger/training_IKNL/test/checkpoint\"\n",
    "sample_dir = \"C:/Users/mwo2008.54063/Documents/BitBucket/synthetic-sequential/generation/NoPrivacy/DoppelGANger/training_IKNL/test/sample\"\n",
    "time_path = \"C:/Users/mwo2008.54063/Documents/BitBucket/synthetic-sequential/generation/NoPrivacy/DoppelGANger/training_IKNL/test/time.txt\"\n",
    "\n",
    "epoch = round((200000*100)/data_feature.shape[0])\n",
    "batch_size = 100\n",
    "vis_freq = data_feature.shape[0]\n",
    "vis_num_sample = 5\n",
    "d_rounds = 1\n",
    "g_rounds = 1\n",
    "d_gp_coe = 10.0\n",
    "attr_d_gp_coe = 10.0\n",
    "g_attr_d_coe = 1.0\n",
    "extra_checkpoint_freq = 5\n",
    "num_packing = 10\n",
    "\n",
    "run_config = tf.ConfigProto()"
   ]
  },
  {
   "cell_type": "code",
   "execution_count": 7,
   "metadata": {
    "scrolled": true
   },
   "outputs": [
    {
     "name": "stdout",
     "output_type": "stream",
     "text": [
      "Layers of DoppelGANgerGenerator\n",
      "[<tf.Variable 'DoppelGANgerGenerator/attribute_real/layer0/linear/dense/kernel:0' shape=(5, 100) dtype=float32_ref>, <tf.Variable 'DoppelGANgerGenerator/attribute_real/layer0/linear/dense/bias:0' shape=(100,) dtype=float32_ref>, <tf.Variable 'DoppelGANgerGenerator/attribute_real/layer0/batch_norm/beta:0' shape=(100,) dtype=float32_ref>, <tf.Variable 'DoppelGANgerGenerator/attribute_real/layer0/batch_norm/gamma:0' shape=(100,) dtype=float32_ref>, <tf.Variable 'DoppelGANgerGenerator/attribute_real/layer0/batch_norm/moving_mean:0' shape=(100,) dtype=float32_ref>, <tf.Variable 'DoppelGANgerGenerator/attribute_real/layer0/batch_norm/moving_variance:0' shape=(100,) dtype=float32_ref>, <tf.Variable 'DoppelGANgerGenerator/attribute_real/layer1/linear/dense/kernel:0' shape=(100, 100) dtype=float32_ref>, <tf.Variable 'DoppelGANgerGenerator/attribute_real/layer1/linear/dense/bias:0' shape=(100,) dtype=float32_ref>, <tf.Variable 'DoppelGANgerGenerator/attribute_real/layer1/batch_norm/beta:0' shape=(100,) dtype=float32_ref>, <tf.Variable 'DoppelGANgerGenerator/attribute_real/layer1/batch_norm/gamma:0' shape=(100,) dtype=float32_ref>, <tf.Variable 'DoppelGANgerGenerator/attribute_real/layer1/batch_norm/moving_mean:0' shape=(100,) dtype=float32_ref>, <tf.Variable 'DoppelGANgerGenerator/attribute_real/layer1/batch_norm/moving_variance:0' shape=(100,) dtype=float32_ref>, <tf.Variable 'DoppelGANgerGenerator/attribute_real/layer2/output0/linear/dense/kernel:0' shape=(100, 3) dtype=float32_ref>, <tf.Variable 'DoppelGANgerGenerator/attribute_real/layer2/output0/linear/dense/bias:0' shape=(3,) dtype=float32_ref>, <tf.Variable 'DoppelGANgerGenerator/attribute_real/layer2/output1/linear/dense/kernel:0' shape=(100, 2) dtype=float32_ref>, <tf.Variable 'DoppelGANgerGenerator/attribute_real/layer2/output1/linear/dense/bias:0' shape=(2,) dtype=float32_ref>, <tf.Variable 'DoppelGANgerGenerator/attribute_real/layer2/output2/linear/dense/kernel:0' shape=(100, 5) dtype=float32_ref>, <tf.Variable 'DoppelGANgerGenerator/attribute_real/layer2/output2/linear/dense/bias:0' shape=(5,) dtype=float32_ref>, <tf.Variable 'DoppelGANgerGenerator/attribute_real/layer2/output3/linear/dense/kernel:0' shape=(100, 3) dtype=float32_ref>, <tf.Variable 'DoppelGANgerGenerator/attribute_real/layer2/output3/linear/dense/bias:0' shape=(3,) dtype=float32_ref>, <tf.Variable 'DoppelGANgerGenerator/attribute_real/layer2/output4/linear/dense/kernel:0' shape=(100, 6) dtype=float32_ref>, <tf.Variable 'DoppelGANgerGenerator/attribute_real/layer2/output4/linear/dense/bias:0' shape=(6,) dtype=float32_ref>, <tf.Variable 'DoppelGANgerGenerator/attribute_real/layer2/output5/linear/dense/kernel:0' shape=(100, 10) dtype=float32_ref>, <tf.Variable 'DoppelGANgerGenerator/attribute_real/layer2/output5/linear/dense/bias:0' shape=(10,) dtype=float32_ref>, <tf.Variable 'DoppelGANgerGenerator/attribute_real/layer2/output6/linear/dense/kernel:0' shape=(100, 7) dtype=float32_ref>, <tf.Variable 'DoppelGANgerGenerator/attribute_real/layer2/output6/linear/dense/bias:0' shape=(7,) dtype=float32_ref>, <tf.Variable 'DoppelGANgerGenerator/attribute_real/layer2/output7/linear/dense/kernel:0' shape=(100, 2) dtype=float32_ref>, <tf.Variable 'DoppelGANgerGenerator/attribute_real/layer2/output7/linear/dense/bias:0' shape=(2,) dtype=float32_ref>, <tf.Variable 'DoppelGANgerGenerator/feature/multi_rnn_cell/cell_0/lstm_cell/kernel:0' shape=(143, 400) dtype=float32_ref>, <tf.Variable 'DoppelGANgerGenerator/feature/multi_rnn_cell/cell_0/lstm_cell/bias:0' shape=(400,) dtype=float32_ref>, <tf.Variable 'DoppelGANgerGenerator/feature/output0/linear/dense/kernel:0' shape=(100, 47) dtype=float32_ref>, <tf.Variable 'DoppelGANgerGenerator/feature/output0/linear/dense/bias:0' shape=(47,) dtype=float32_ref>, <tf.Variable 'DoppelGANgerGenerator/feature/output1/linear/dense/kernel:0' shape=(100, 2) dtype=float32_ref>, <tf.Variable 'DoppelGANgerGenerator/feature/output1/linear/dense/bias:0' shape=(2,) dtype=float32_ref>]\n",
      "Layers of discriminator\n",
      "[<tf.Variable 'discriminator/layer0/linear/dense/kernel:0' shape=(2830, 200) dtype=float32_ref>, <tf.Variable 'discriminator/layer0/linear/dense/bias:0' shape=(200,) dtype=float32_ref>, <tf.Variable 'discriminator/layer1/linear/dense/kernel:0' shape=(200, 200) dtype=float32_ref>, <tf.Variable 'discriminator/layer1/linear/dense/bias:0' shape=(200,) dtype=float32_ref>, <tf.Variable 'discriminator/layer2/linear/dense/kernel:0' shape=(200, 200) dtype=float32_ref>, <tf.Variable 'discriminator/layer2/linear/dense/bias:0' shape=(200,) dtype=float32_ref>, <tf.Variable 'discriminator/layer3/linear/dense/kernel:0' shape=(200, 200) dtype=float32_ref>, <tf.Variable 'discriminator/layer3/linear/dense/bias:0' shape=(200,) dtype=float32_ref>, <tf.Variable 'discriminator/layer4/linear/dense/kernel:0' shape=(200, 1) dtype=float32_ref>, <tf.Variable 'discriminator/layer4/linear/dense/bias:0' shape=(1,) dtype=float32_ref>]\n",
      "INFO:tensorflow:Restoring parameters from C:/Users/mwo2008.54063/Documents/BitBucket/synthetic-sequential/generation/NoPrivacy/DoppelGANger/training_IKNL/test/checkpoint\\model-199575\n",
      "samples generated:  191913\n",
      "(191913, 5, 47)\n",
      "(191913, 38)\n"
     ]
    }
   ],
   "source": [
    "with tf.Session(config=run_config) as sess:\n",
    "    gan = DoppelGANger(\n",
    "        sess=sess,\n",
    "        checkpoint_dir=checkpoint_dir,\n",
    "        sample_dir=sample_dir,\n",
    "        time_path=time_path,\n",
    "        epoch=epoch,\n",
    "        batch_size=batch_size,\n",
    "        data_feature=data_feature,\n",
    "        data_attribute=data_attribute,\n",
    "        real_attribute_mask=real_attribute_mask,\n",
    "        data_gen_flag=data_gen_flag,\n",
    "        sample_len=sample_len,\n",
    "        data_feature_outputs=data_feature_outputs,\n",
    "        data_attribute_outputs=data_attribute_outputs,\n",
    "        vis_freq=vis_freq,\n",
    "        vis_num_sample=vis_num_sample,\n",
    "        generator=generator,\n",
    "        discriminator=discriminator,\n",
    "        d_gp_coe=d_gp_coe,\n",
    "        attr_d_gp_coe=attr_d_gp_coe,\n",
    "        g_attr_d_coe=g_attr_d_coe,\n",
    "        d_rounds=d_rounds,\n",
    "        g_rounds=g_rounds,\n",
    "        num_packing=num_packing,\n",
    "        extra_checkpoint_freq=extra_checkpoint_freq)\n",
    "    gan.build()\n",
    "    gan.load(checkpoint_dir)\n",
    "    \n",
    "    total_generate_num_sample = data_feature.shape[0]\n",
    "    print('samples generated: ', total_generate_num_sample)\n",
    "\n",
    "    length = int(data_feature.shape[1] / sample_len)\n",
    "    real_attribute_input_noise = gan.gen_attribute_input_noise(\n",
    "        total_generate_num_sample)\n",
    "    addi_attribute_input_noise = gan.gen_attribute_input_noise(\n",
    "        total_generate_num_sample)\n",
    "    feature_input_noise = gan.gen_feature_input_noise(\n",
    "        total_generate_num_sample, length)\n",
    "    input_data = gan.gen_feature_input_data_free(\n",
    "        total_generate_num_sample)\n",
    "    \n",
    "    features, attributes, gen_flags, lengths = gan.sample_from(\n",
    "                    real_attribute_input_noise, addi_attribute_input_noise,\n",
    "                    feature_input_noise, input_data)\n",
    "    \n",
    "    print(features.shape)\n",
    "    print(attributes.shape)"
   ]
  },
  {
   "cell_type": "code",
   "execution_count": 8,
   "metadata": {},
   "outputs": [],
   "source": [
    "import numpy as np"
   ]
  },
  {
   "cell_type": "code",
   "execution_count": 9,
   "metadata": {},
   "outputs": [],
   "source": [
    "# Save\n",
    "np.savez('./generated_data/generated_data.npz',\n",
    "         data_feature=features,\n",
    "         data_attribute=attributes,\n",
    "         data_gen_flag=gen_flags)"
   ]
  }
 ],
 "metadata": {
  "kernelspec": {
   "display_name": "Python 3",
   "language": "python",
   "name": "python3"
  },
  "language_info": {
   "codemirror_mode": {
    "name": "ipython",
    "version": 3
   },
   "file_extension": ".py",
   "mimetype": "text/x-python",
   "name": "python",
   "nbconvert_exporter": "python",
   "pygments_lexer": "ipython3",
   "version": "3.5.6"
  }
 },
 "nbformat": 4,
 "nbformat_minor": 4
}
