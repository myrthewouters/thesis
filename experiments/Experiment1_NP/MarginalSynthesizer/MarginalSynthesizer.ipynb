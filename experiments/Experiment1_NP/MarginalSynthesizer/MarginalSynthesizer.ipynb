{
 "cells": [
  {
   "cell_type": "markdown",
   "metadata": {},
   "source": [
    "# Generating Sequential Data with Marginal Synthesizer"
   ]
  },
  {
   "cell_type": "markdown",
   "metadata": {},
   "source": [
    "# Environment"
   ]
  },
  {
   "cell_type": "markdown",
   "metadata": {},
   "source": [
    "## Library Imports"
   ]
  },
  {
   "cell_type": "code",
   "execution_count": 1,
   "metadata": {},
   "outputs": [],
   "source": [
    "import numpy as np\n",
    "import pandas as pd\n",
    "from pathlib import Path\n",
    "import os\n",
    "import sys\n",
    "from itertools import product\n",
    "module_path = os.path.abspath(os.path.join('../../..'))\n",
    "if module_path not in sys.path:\n",
    "    sys.path.append(module_path)"
   ]
  },
  {
   "cell_type": "code",
   "execution_count": 2,
   "metadata": {},
   "outputs": [],
   "source": [
    "from copy import deepcopy\n",
    "import math\n",
    "from dython.nominal import associations\n",
    "import matplotlib.pyplot as plt\n",
    "import random"
   ]
  },
  {
   "cell_type": "code",
   "execution_count": 3,
   "metadata": {},
   "outputs": [
    {
     "name": "stdout",
     "output_type": "stream",
     "text": [
      "C:\\Users\\mwo2008.54063\\Documents\\GitHub\\thesis\n"
     ]
    }
   ],
   "source": [
    "print(module_path)"
   ]
  },
  {
   "cell_type": "markdown",
   "metadata": {},
   "source": [
    "## Jupyter-specific Imports and Settings"
   ]
  },
  {
   "cell_type": "code",
   "execution_count": 4,
   "metadata": {},
   "outputs": [],
   "source": [
    "# set printing options\n",
    "np.set_printoptions(threshold=sys.maxsize)\n",
    "pd.set_option('display.max_rows', 500)\n",
    "pd.set_option('display.max_columns', 500)\n",
    "pd.set_option('display.width', 1000)\n",
    "pd.set_option('display.expand_frame_repr', False)\n",
    "\n",
    "# Display all cell outputs\n",
    "from IPython.core.interactiveshell import InteractiveShell\n",
    "InteractiveShell.ast_node_interactivity = 'all'\n",
    "\n",
    "from IPython import get_ipython\n",
    "ipython = get_ipython()\n",
    "\n",
    "# autoreload extension\n",
    "if 'autoreload' not in ipython.extension_manager.loaded:\n",
    "    get_ipython().run_line_magic('load_ext', 'autoreload')\n",
    "\n",
    "get_ipython().run_line_magic('autoreload', '2')\n",
    "from importlib import reload"
   ]
  },
  {
   "cell_type": "markdown",
   "metadata": {},
   "source": [
    "## Import local libraries"
   ]
  },
  {
   "cell_type": "code",
   "execution_count": 5,
   "metadata": {},
   "outputs": [],
   "source": [
    "from synthesis.synthesizers.marginal import MarginalSynthesizer"
   ]
  },
  {
   "cell_type": "markdown",
   "metadata": {},
   "source": [
    "## Load original data"
   ]
  },
  {
   "cell_type": "code",
   "execution_count": 6,
   "metadata": {},
   "outputs": [],
   "source": [
    "tumours = pd.read_pickle('../../../../../Master Thesis/data/preprocessed/tumours_patients_2017_train.pickle').set_index('eid')\n",
    "treatments = pd.read_pickle('../../../../../Master Thesis/data/preprocessed/treatments_2017_train.pickle')"
   ]
  },
  {
   "cell_type": "code",
   "execution_count": 7,
   "metadata": {},
   "outputs": [
    {
     "data": {
      "text/plain": [
       "((191913, 8), (317592, 4))"
      ]
     },
     "execution_count": 7,
     "metadata": {},
     "output_type": "execute_result"
    }
   ],
   "source": [
    "tumours.shape, treatments.shape"
   ]
  },
  {
   "cell_type": "markdown",
   "metadata": {},
   "source": [
    "## Sequential Data Pivoting"
   ]
  },
  {
   "cell_type": "code",
   "execution_count": 8,
   "metadata": {},
   "outputs": [],
   "source": [
    "class SequentialDataPivotingMS:\n",
    "    \n",
    "    def __init__(self, max_n_treatments, primary_key, treatment_col, order_col):\n",
    "        self.max_n_treatments = max_n_treatments\n",
    "        self.primary_key = primary_key\n",
    "        self.treatment_col = treatment_col\n",
    "        self.order_col = order_col\n",
    "        \n",
    "    def transform(self, df_static, df_treatments):\n",
    "        \"\"\"\n",
    "        Flattens df_treatments and appends to df_static\n",
    "        \"\"\"\n",
    "        # Sort values by vnr\n",
    "        df_treatments = df_treatments.sort_values([self.primary_key, self.order_col])\n",
    "        \n",
    "        # Group treatments by eid, list treatments and date\n",
    "        df_treatments_grouped = pd.DataFrame(df_treatments.groupby(self.primary_key)[self.treatment_col].apply(list))\n",
    "        \n",
    "        # Instantiate flat treatments dataframe\n",
    "        df_treatments_flat = pd.DataFrame(index=df_treatments_grouped.index)\n",
    "        \n",
    "        # Generate treatment and date columns\n",
    "        for nr in range(1, self.max_n_treatments + 1):\n",
    "            df_treatments_flat['treatment_' + str(nr)] = df_treatments_grouped[self.treatment_col].apply(self.get_treatment_nr,\n",
    "                                                                                                        args=[nr])\n",
    "            \n",
    "        # Merge flat treatments dataframe with static covariates dataframe\n",
    "        df = df_static.merge(df_treatments_flat, left_index=True, right_index=True)\n",
    "        \n",
    "        return df\n",
    "    \n",
    "    def inverse_transform(self, df):\n",
    "        \"\"\"\n",
    "        Transforms flat dataframe back to df_static and df_treatments \n",
    "        \"\"\"\n",
    "        # Define static and treatment columns\n",
    "        static_cols = [col for col in df if not col.startswith('treatment')]\n",
    "        treatment_cols = list(set(df.columns) - set(static_cols))\n",
    "        \n",
    "        # df_static\n",
    "        df_static = df[static_cols].copy()\n",
    "        \n",
    "        # df_treatments\n",
    "        treatment_cols_treatments = sorted([col for col in treatment_cols if col.startswith('treatment')])\n",
    "        \n",
    "        treatment_cols_data = [pd.DataFrame(df[col]) for col in treatment_cols_treatments]\n",
    "        for a_df in treatment_cols_data:\n",
    "            a_df['nr_treatment'] = a_df.columns[0][-1]\n",
    "            a_df.rename(columns={a_df.columns[0]: self.treatment_col}, inplace=True)\n",
    "        \n",
    "        treatments = pd.concat(treatment_cols_data)\n",
    "        treatments.index.name = self.primary_key\n",
    "        treatments = treatments.reset_index()\n",
    "        \n",
    "        df_treatments = treatments.replace('nan', np.nan)\n",
    "        df_treatments = df_treatments.dropna().rename({'nr_treatment': self.order_col}, axis=1)\n",
    "        df_treatments = df_treatments.sort_values(['eid', self.order_col]).reset_index(drop=True)\n",
    "        \n",
    "        # Drop all treatments after first nan\n",
    "        df_treatments = df_treatments[df_treatments[self.order_col].astype(int)\n",
    "                                      ==df_treatments.groupby('eid').cumcount()+1].copy()\n",
    "        \n",
    "        return df_static, df_treatments\n",
    "        \n",
    "    @staticmethod\n",
    "    def get_treatment_nr(treatments, nr):\n",
    "        if len(treatments)>=nr:\n",
    "            return treatments[nr-1]\n",
    "        else:\n",
    "            return np.nan"
   ]
  },
  {
   "cell_type": "code",
   "execution_count": 9,
   "metadata": {},
   "outputs": [],
   "source": [
    "# develop transformer to flatten the table\n",
    "fts = SequentialDataPivotingMS(max_n_treatments=5,\n",
    "                               primary_key='eid',\n",
    "                               treatment_col='gbs_gebeurtenis_code',\n",
    "                               order_col='gbs_vnr')\n",
    "\n",
    "df = fts.transform(tumours, treatments)"
   ]
  },
  {
   "cell_type": "code",
   "execution_count": 10,
   "metadata": {
    "scrolled": true
   },
   "outputs": [
    {
     "data": {
      "text/plain": [
       "(191913, 13)"
      ]
     },
     "execution_count": 10,
     "metadata": {},
     "output_type": "execute_result"
    }
   ],
   "source": [
    "df.shape"
   ]
  },
  {
   "cell_type": "code",
   "execution_count": 11,
   "metadata": {
    "scrolled": true
   },
   "outputs": [],
   "source": [
    "# Set all dtypes to string\n",
    "df = df.astype(str)"
   ]
  },
  {
   "cell_type": "markdown",
   "metadata": {},
   "source": [
    "# Generate data"
   ]
  },
  {
   "cell_type": "code",
   "execution_count": 12,
   "metadata": {},
   "outputs": [],
   "source": [
    "epsilon = np.inf"
   ]
  },
  {
   "cell_type": "code",
   "execution_count": 13,
   "metadata": {},
   "outputs": [
    {
     "name": "stdout",
     "output_type": "stream",
     "text": [
      "Marginal fitted: tum_topo_code\n",
      "Marginal fitted: pat_geslacht_code\n",
      "Marginal fitted: tum_differentiatiegraad_code\n",
      "Marginal fitted: tum_lymfklieren_positief_atl\n",
      "Marginal fitted: age_at_diagnosis\n",
      "Marginal fitted: tum_topo_sublokalisatie_code\n",
      "Marginal fitted: stadium\n",
      "Marginal fitted: survival_1\n",
      "Marginal fitted: treatment_1\n",
      "Marginal fitted: treatment_2\n",
      "Marginal fitted: treatment_3\n",
      "Marginal fitted: treatment_4\n",
      "Marginal fitted: treatment_5\n"
     ]
    },
    {
     "data": {
      "text/plain": [
       "<synthesis.synthesizers.marginal.MarginalSynthesizer at 0x27268eee288>"
      ]
     },
     "execution_count": 13,
     "metadata": {},
     "output_type": "execute_result"
    },
    {
     "name": "stdout",
     "output_type": "stream",
     "text": [
      "Column sampled: tum_topo_code\n",
      "Column sampled: pat_geslacht_code\n",
      "Column sampled: tum_differentiatiegraad_code\n",
      "Column sampled: tum_lymfklieren_positief_atl\n",
      "Column sampled: age_at_diagnosis\n",
      "Column sampled: tum_topo_sublokalisatie_code\n",
      "Column sampled: stadium\n",
      "Column sampled: survival_1\n",
      "Column sampled: treatment_1\n",
      "Column sampled: treatment_2\n",
      "Column sampled: treatment_3\n",
      "Column sampled: treatment_4\n",
      "Column sampled: treatment_5\n"
     ]
    }
   ],
   "source": [
    "ms = MarginalSynthesizer(epsilon=epsilon)\n",
    "ms.fit(df)\n",
    "df_ms = ms.sample()"
   ]
  },
  {
   "cell_type": "code",
   "execution_count": 14,
   "metadata": {
    "scrolled": true
   },
   "outputs": [],
   "source": [
    "df_static, _ = fts.inverse_transform(df)\n",
    "df_treatments = treatments.sort_values(['eid', 'gbs_vnr'])\n",
    "df_static_ms, df_treatments_ms = fts.inverse_transform(df_ms)"
   ]
  },
  {
   "cell_type": "code",
   "execution_count": 15,
   "metadata": {},
   "outputs": [],
   "source": [
    "df_static_ms.to_pickle('../synthetic_data/MSNP_tumours.pickle')\n",
    "df_treatments_ms.to_pickle('../synthetic_data/MSNP_treatments.pickle')"
   ]
  }
 ],
 "metadata": {
  "kernelspec": {
   "display_name": "Python 3",
   "language": "python",
   "name": "python3"
  },
  "language_info": {
   "codemirror_mode": {
    "name": "ipython",
    "version": 3
   },
   "file_extension": ".py",
   "mimetype": "text/x-python",
   "name": "python",
   "nbconvert_exporter": "python",
   "pygments_lexer": "ipython3",
   "version": "3.7.9"
  },
  "toc": {
   "base_numbering": 1,
   "nav_menu": {},
   "number_sections": true,
   "sideBar": true,
   "skip_h1_title": false,
   "title_cell": "Table of Contents",
   "title_sidebar": "Contents",
   "toc_cell": false,
   "toc_position": {},
   "toc_section_display": true,
   "toc_window_display": false
  },
  "varInspector": {
   "cols": {
    "lenName": 16,
    "lenType": 16,
    "lenVar": 40
   },
   "kernels_config": {
    "python": {
     "delete_cmd_postfix": "",
     "delete_cmd_prefix": "del ",
     "library": "var_list.py",
     "varRefreshCmd": "print(var_dic_list())"
    },
    "r": {
     "delete_cmd_postfix": ") ",
     "delete_cmd_prefix": "rm(",
     "library": "var_list.r",
     "varRefreshCmd": "cat(var_dic_list()) "
    }
   },
   "types_to_exclude": [
    "module",
    "function",
    "builtin_function_or_method",
    "instance",
    "_Feature"
   ],
   "window_display": false
  }
 },
 "nbformat": 4,
 "nbformat_minor": 4
}
